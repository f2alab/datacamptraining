{
 "cells": [
  {
   "cell_type": "markdown",
   "id": "4c2bb90f",
   "metadata": {},
   "source": [
    "**CATEGORICAL DATA IN PYTHON**"
   ]
  },
  {
   "cell_type": "code",
   "execution_count": 13,
   "id": "cfaa52c7",
   "metadata": {},
   "outputs": [],
   "source": [
    "# Import necessary libraries\n",
    "import numpy as np\n",
    "import matplotlib.pyplot as plt\n",
    "import pandas as pd\n",
    "import seaborn as sns"
   ]
  },
  {
   "cell_type": "code",
   "execution_count": 14,
   "id": "6a3e05a5",
   "metadata": {},
   "outputs": [
    {
     "name": "stdout",
     "output_type": "stream",
     "text": [
      "Index(['name', 'age', 'height', 'gender', 'city', 'salary', 'department'], dtype='object')\n",
      "name           object\n",
      "age             int64\n",
      "height        float64\n",
      "gender         object\n",
      "city           object\n",
      "salary          int64\n",
      "department     object\n",
      "dtype: object\n"
     ]
    }
   ],
   "source": [
    "#load the dataset\n",
    "data = pd.read_csv('employees_data.csv', index_col=0)\n",
    "data.head(2)\n",
    "\n",
    "print(data.columns)\n",
    "print(data.dtypes)"
   ]
  },
  {
   "cell_type": "markdown",
   "id": "a60a20e0",
   "metadata": {},
   "source": [
    "**CONVERT TO CATEGORICAL**"
   ]
  },
  {
   "cell_type": "code",
   "execution_count": 15,
   "id": "342c5e9d",
   "metadata": {},
   "outputs": [
    {
     "name": "stdout",
     "output_type": "stream",
     "text": [
      "name           object\n",
      "age             int64\n",
      "height        float64\n",
      "gender         object\n",
      "city           object\n",
      "salary          int64\n",
      "department     object\n",
      "dtype: object\n",
      "***********************************\n",
      "name            object\n",
      "age              int64\n",
      "height         float64\n",
      "gender        category\n",
      "city            object\n",
      "salary           int64\n",
      "department      object\n",
      "dtype: object\n"
     ]
    }
   ],
   "source": [
    "# Print dtypes of the columns before conversion\n",
    "print(data.dtypes)\n",
    "\n",
    "# Convert 'gender' column to categorical type\n",
    "data['gender'] = data['gender'].astype('category')\n",
    "\n",
    "#print dtypes of the columns after conversion\n",
    "print(\"***********************************\")\n",
    "print(data.dtypes)"
   ]
  },
  {
   "cell_type": "code",
   "execution_count": 16,
   "id": "f66eac0f",
   "metadata": {},
   "outputs": [
    {
     "data": {
      "text/plain": [
       "CategoricalDtype(categories=['F', 'M'], ordered=False, categories_dtype=object)"
      ]
     },
     "execution_count": 16,
     "metadata": {},
     "output_type": "execute_result"
    }
   ],
   "source": [
    "data['gender'].dtype\n",
    "# data['gender'].cat.remove_categories"
   ]
  },
  {
   "cell_type": "markdown",
   "id": "9dcce747",
   "metadata": {},
   "source": [
    "**CREATE CATEGORIES**"
   ]
  },
  {
   "cell_type": "code",
   "execution_count": 17,
   "id": "2892b6d8",
   "metadata": {},
   "outputs": [
    {
     "name": "stdout",
     "output_type": "stream",
     "text": [
      "CATEGORY 1 0    A\n",
      "1    B\n",
      "2    C\n",
      "3    D\n",
      "4    E\n",
      "5    A\n",
      "dtype: category\n",
      "Categories (5, object): ['A', 'B', 'C', 'D', 'E']\n",
      "CATEGORY 2 ['A', 'B', 'C', 'D', 'E', 'A']\n",
      "Categories (5, object): ['A', 'B', 'C', 'D', 'E']\n"
     ]
    },
    {
     "data": {
      "text/plain": [
       "A    2\n",
       "B    1\n",
       "C    1\n",
       "D    1\n",
       "E    1\n",
       "Name: count, dtype: int64"
      ]
     },
     "execution_count": 17,
     "metadata": {},
     "output_type": "execute_result"
    }
   ],
   "source": [
    "# Create from a liste\n",
    "\n",
    "cat_liste = ['A', 'B', 'C', 'D', 'E', 'A']\n",
    "\n",
    "#with pd.Series\n",
    "categories1 = pd.Series(cat_liste, dtype=\"category\")\n",
    "print(\"CATEGORY 1\", categories1)\n",
    "\n",
    "#with pd.Categorical\n",
    "categories2 = pd.Categorical(cat_liste)\n",
    "print(\"CATEGORY 2\", categories2)\n",
    "\n",
    "categories1.value_counts()\n",
    "\n"
   ]
  },
  {
   "cell_type": "code",
   "execution_count": 18,
   "id": "e998bd24",
   "metadata": {},
   "outputs": [
    {
     "name": "stdout",
     "output_type": "stream",
     "text": [
      "Help on function catplot in module seaborn.categorical:\n",
      "\n",
      "catplot(\n",
      "    data=None,\n",
      "    *,\n",
      "    x=None,\n",
      "    y=None,\n",
      "    hue=None,\n",
      "    row=None,\n",
      "    col=None,\n",
      "    kind='strip',\n",
      "    estimator='mean',\n",
      "    errorbar=('ci', 95),\n",
      "    n_boot=1000,\n",
      "    seed=None,\n",
      "    units=None,\n",
      "    weights=None,\n",
      "    order=None,\n",
      "    hue_order=None,\n",
      "    row_order=None,\n",
      "    col_order=None,\n",
      "    col_wrap=None,\n",
      "    height=5,\n",
      "    aspect=1,\n",
      "    log_scale=None,\n",
      "    native_scale=False,\n",
      "    formatter=None,\n",
      "    orient=None,\n",
      "    color=None,\n",
      "    palette=None,\n",
      "    hue_norm=None,\n",
      "    legend='auto',\n",
      "    legend_out=True,\n",
      "    sharex=True,\n",
      "    sharey=True,\n",
      "    margin_titles=False,\n",
      "    facet_kws=None,\n",
      "    ci=<deprecated>,\n",
      "    **kwargs\n",
      ")\n",
      "    Figure-level interface for drawing categorical plots onto a FacetGrid.\n",
      "\n",
      "    This function provides access to several axes-level functions that\n",
      "    show the relationship between a numerical and one or more categorical\n",
      "    variables using one of several visual representations. The `kind`\n",
      "    parameter selects the underlying axes-level function to use.\n",
      "\n",
      "    Categorical scatterplots:\n",
      "\n",
      "    - :func:`stripplot` (with `kind=\"strip\"`; the default)\n",
      "    - :func:`swarmplot` (with `kind=\"swarm\"`)\n",
      "\n",
      "    Categorical distribution plots:\n",
      "\n",
      "    - :func:`boxplot` (with `kind=\"box\"`)\n",
      "    - :func:`violinplot` (with `kind=\"violin\"`)\n",
      "    - :func:`boxenplot` (with `kind=\"boxen\"`)\n",
      "\n",
      "    Categorical estimate plots:\n",
      "\n",
      "    - :func:`pointplot` (with `kind=\"point\"`)\n",
      "    - :func:`barplot` (with `kind=\"bar\"`)\n",
      "    - :func:`countplot` (with `kind=\"count\"`)\n",
      "\n",
      "    Extra keyword arguments are passed to the underlying function, so you\n",
      "    should refer to the documentation for each to see kind-specific options.\n",
      "\n",
      "    See the :ref:`tutorial <categorical_tutorial>` for more information.\n",
      "\n",
      "    .. note::\n",
      "        By default, this function treats one of the variables as categorical\n",
      "        and draws data at ordinal positions (0, 1, ... n) on the relevant axis.\n",
      "        As of version 0.13.0, this can be disabled by setting `native_scale=True`.\n",
      "\n",
      "\n",
      "    After plotting, the :class:`FacetGrid` with the plot is returned and can\n",
      "    be used directly to tweak supporting plot details or add other layers.\n",
      "\n",
      "    Parameters\n",
      "    ----------\n",
      "    data : DataFrame, Series, dict, array, or list of arrays\n",
      "        Dataset for plotting. If `x` and `y` are absent, this is\n",
      "        interpreted as wide-form. Otherwise it is expected to be long-form.\n",
      "    x, y, hue : names of variables in `data` or vector data\n",
      "        Inputs for plotting long-form data. See examples for interpretation.\n",
      "    row, col : names of variables in `data` or vector data\n",
      "        Categorical variables that will determine the faceting of the grid.\n",
      "    kind : str\n",
      "        The kind of plot to draw, corresponds to the name of a categorical\n",
      "        axes-level plotting function. Options are: \"strip\", \"swarm\", \"box\", \"violin\",\n",
      "        \"boxen\", \"point\", \"bar\", or \"count\".\n",
      "    estimator : string or callable that maps vector -> scalar\n",
      "        Statistical function to estimate within each categorical bin.\n",
      "    errorbar : string, (string, number) tuple, callable or None\n",
      "        Name of errorbar method (either \"ci\", \"pi\", \"se\", or \"sd\"), or a tuple\n",
      "        with a method name and a level parameter, or a function that maps from a\n",
      "        vector to a (min, max) interval, or None to hide errorbar. See the\n",
      "        :doc:`errorbar tutorial </tutorial/error_bars>` for more information.\n",
      "\n",
      "        .. versionadded:: v0.12.0\n",
      "    n_boot : int\n",
      "        Number of bootstrap samples used to compute confidence intervals.\n",
      "    seed : int, `numpy.random.Generator`, or `numpy.random.RandomState`\n",
      "        Seed or random number generator for reproducible bootstrapping.\n",
      "    units : name of variable in `data` or vector data\n",
      "        Identifier of sampling units; used by the errorbar function to\n",
      "        perform a multilevel bootstrap and account for repeated measures\n",
      "    weights : name of variable in `data` or vector data\n",
      "        Data values or column used to compute weighted statistics.\n",
      "        Note that the use of weights may limit other statistical options.\n",
      "\n",
      "        .. versionadded:: v0.13.1\n",
      "    order, hue_order : lists of strings\n",
      "        Order to plot the categorical levels in; otherwise the levels are\n",
      "        inferred from the data objects.\n",
      "    row_order, col_order : lists of strings\n",
      "        Order to organize the rows and/or columns of the grid in; otherwise the\n",
      "        orders are inferred from the data objects.\n",
      "    col_wrap : int\n",
      "        \"Wrap\" the column variable at this width, so that the column facets\n",
      "        span multiple rows. Incompatible with a ``row`` facet.\n",
      "    height : scalar\n",
      "        Height (in inches) of each facet. See also: ``aspect``.\n",
      "    aspect : scalar\n",
      "        Aspect ratio of each facet, so that ``aspect * height`` gives the width\n",
      "        of each facet in inches.\n",
      "    native_scale : bool\n",
      "        When True, numeric or datetime values on the categorical axis will maintain\n",
      "        their original scaling rather than being converted to fixed indices.\n",
      "\n",
      "        .. versionadded:: v0.13.0\n",
      "    formatter : callable\n",
      "        Function for converting categorical data into strings. Affects both grouping\n",
      "        and tick labels.\n",
      "\n",
      "        .. versionadded:: v0.13.0\n",
      "    orient : \"v\" | \"h\" | \"x\" | \"y\"\n",
      "        Orientation of the plot (vertical or horizontal). This is usually\n",
      "        inferred based on the type of the input variables, but it can be used\n",
      "        to resolve ambiguity when both `x` and `y` are numeric or when\n",
      "        plotting wide-form data.\n",
      "\n",
      "        .. versionchanged:: v0.13.0\n",
      "            Added 'x'/'y' as options, equivalent to 'v'/'h'.\n",
      "    color : matplotlib color\n",
      "        Single color for the elements in the plot.\n",
      "    palette : palette name, list, or dict\n",
      "        Colors to use for the different levels of the ``hue`` variable. Should\n",
      "        be something that can be interpreted by :func:`color_palette`, or a\n",
      "        dictionary mapping hue levels to matplotlib colors.\n",
      "    hue_norm : tuple or :class:`matplotlib.colors.Normalize` object\n",
      "        Normalization in data units for colormap applied to the `hue`\n",
      "        variable when it is numeric. Not relevant if `hue` is categorical.\n",
      "\n",
      "        .. versionadded:: v0.12.0\n",
      "    legend : \"auto\", \"brief\", \"full\", or False\n",
      "        How to draw the legend. If \"brief\", numeric `hue` and `size`\n",
      "        variables will be represented with a sample of evenly spaced values.\n",
      "        If \"full\", every group will get an entry in the legend. If \"auto\",\n",
      "        choose between brief or full representation based on number of levels.\n",
      "        If `False`, no legend data is added and no legend is drawn.\n",
      "\n",
      "        .. versionadded:: v0.13.0\n",
      "    legend_out : bool\n",
      "        If ``True``, the figure size will be extended, and the legend will be\n",
      "        drawn outside the plot on the center right.\n",
      "    share{x,y} : bool, 'col', or 'row' optional\n",
      "        If true, the facets will share y axes across columns and/or x axes\n",
      "        across rows.\n",
      "    margin_titles : bool\n",
      "        If ``True``, the titles for the row variable are drawn to the right of\n",
      "        the last column. This option is experimental and may not work in all\n",
      "        cases.\n",
      "    facet_kws : dict\n",
      "        Dictionary of other keyword arguments to pass to :class:`FacetGrid`.\n",
      "    kwargs : key, value pairings\n",
      "        Other keyword arguments are passed through to the underlying plotting\n",
      "        function.\n",
      "\n",
      "    Returns\n",
      "    -------\n",
      "    :class:`FacetGrid`\n",
      "        Returns the :class:`FacetGrid` object with the plot on it for further\n",
      "        tweaking.\n",
      "\n",
      "    Examples\n",
      "    --------\n",
      "    .. include:: ../docstrings/catplot.rst\n",
      "\n"
     ]
    }
   ],
   "source": [
    "help(sns.catplot)"
   ]
  },
  {
   "cell_type": "code",
   "execution_count": 19,
   "id": "4901b695",
   "metadata": {},
   "outputs": [
    {
     "name": "stdout",
     "output_type": "stream",
     "text": [
      "Help on _ArrayFunctionDispatcher in module numpy:\n",
      "\n",
      "where(...)\n",
      "    where(condition, [x, y], /)\n",
      "\n",
      "    Return elements chosen from `x` or `y` depending on `condition`.\n",
      "\n",
      "    .. note::\n",
      "        When only `condition` is provided, this function is a shorthand for\n",
      "        ``np.asarray(condition).nonzero()``. Using `nonzero` directly should be\n",
      "        preferred, as it behaves correctly for subclasses. The rest of this\n",
      "        documentation covers only the case where all three arguments are\n",
      "        provided.\n",
      "\n",
      "    Parameters\n",
      "    ----------\n",
      "    condition : array_like, bool\n",
      "        Where True, yield `x`, otherwise yield `y`.\n",
      "    x, y : array_like\n",
      "        Values from which to choose. `x`, `y` and `condition` need to be\n",
      "        broadcastable to some shape.\n",
      "\n",
      "    Returns\n",
      "    -------\n",
      "    out : ndarray\n",
      "        An array with elements from `x` where `condition` is True, and elements\n",
      "        from `y` elsewhere.\n",
      "\n",
      "    See Also\n",
      "    --------\n",
      "    choose\n",
      "    nonzero : The function that is called when x and y are omitted\n",
      "\n",
      "    Notes\n",
      "    -----\n",
      "    If all the arrays are 1-D, `where` is equivalent to::\n",
      "\n",
      "        [xv if c else yv\n",
      "         for c, xv, yv in zip(condition, x, y)]\n",
      "\n",
      "    Examples\n",
      "    --------\n",
      "    >>> import numpy as np\n",
      "    >>> a = np.arange(10)\n",
      "    >>> a\n",
      "    array([0, 1, 2, 3, 4, 5, 6, 7, 8, 9])\n",
      "    >>> np.where(a < 5, a, 10*a)\n",
      "    array([ 0,  1,  2,  3,  4, 50, 60, 70, 80, 90])\n",
      "\n",
      "    This can be used on multidimensional arrays too:\n",
      "\n",
      "    >>> np.where([[True, False], [True, True]],\n",
      "    ...          [[1, 2], [3, 4]],\n",
      "    ...          [[9, 8], [7, 6]])\n",
      "    array([[1, 8],\n",
      "           [3, 4]])\n",
      "\n",
      "    The shapes of x, y, and the condition are broadcast together:\n",
      "\n",
      "    >>> x, y = np.ogrid[:3, :4]\n",
      "    >>> np.where(x < y, x, 10 + y)  # both x and 10+y are broadcast\n",
      "    array([[10,  0,  0,  0],\n",
      "           [10, 11,  1,  1],\n",
      "           [10, 11, 12,  2]])\n",
      "\n",
      "    >>> a = np.array([[0, 1, 2],\n",
      "    ...               [0, 2, 4],\n",
      "    ...               [0, 3, 6]])\n",
      "    >>> np.where(a < 4, a, -1)  # -1 is broadcast\n",
      "    array([[ 0,  1,  2],\n",
      "           [ 0,  2, -1],\n",
      "           [ 0,  3, -1]])\n",
      "\n"
     ]
    }
   ],
   "source": [
    "help(np.where)"
   ]
  },
  {
   "cell_type": "code",
   "execution_count": 20,
   "id": "9eda0f9a",
   "metadata": {},
   "outputs": [
    {
     "name": "stdout",
     "output_type": "stream",
     "text": [
      "toto titi\n"
     ]
    }
   ],
   "source": [
    "s = 'ototo titio'\n",
    "strip = s.strip('o')\n",
    "print(strip)"
   ]
  },
  {
   "cell_type": "code",
   "execution_count": null,
   "id": "f8ace8f5",
   "metadata": {},
   "outputs": [],
   "source": []
  },
  {
   "cell_type": "code",
   "execution_count": 21,
   "id": "413c010e",
   "metadata": {},
   "outputs": [
    {
     "name": "stdout",
     "output_type": "stream",
     "text": [
      "{5}\n"
     ]
    }
   ],
   "source": [
    "set1 = set([5, 2, 3])\n",
    "set2 = set([1, 2, 3, 4])\n",
    "print(set1.difference([1, 2, 3, 4]))"
   ]
  },
  {
   "cell_type": "code",
   "execution_count": 22,
   "id": "1cba9892",
   "metadata": {},
   "outputs": [
    {
     "name": "stdout",
     "output_type": "stream",
     "text": [
      "   a  b  c  cumul\n",
      "k  4  3  5    NaN\n",
      "l  6  1  9    NaN\n",
      "m  1  2  7    NaN\n",
      "\n",
      "cccccc\n",
      "\n",
      "**************************************************ccccc\n",
      "\n",
      "ccccccxxxxxxxxx--------------------------------------------------cccccHelp on function draw_stars_line in module utils.utils:\n",
      "\n",
      "draw_stars_line(n=50, char='*', margin=2)\n",
      "    Draw a line of stars with a specified character and margin.\n",
      "    Parameters:\n",
      "    n (int): Number of characters to print.\n",
      "    char (str): Character to print.\n",
      "    margin (int): Number of new lines to print after the line.\n",
      "    Returns:\n",
      "    None\n",
      "\n",
      "None\n",
      "   a  b  c  cumul\n",
      "k  4  3  5    NaN\n",
      "m  1  2  7    NaN\n"
     ]
    }
   ],
   "source": [
    "from utils.utils import *\n",
    "dic1 = {'a': 4, 'b': 3, 'c': 5}\n",
    "dic2 = {'a': 6, 'b': 1, 'c': 9}\n",
    "dict3 = {'a': 1, 'b': 2, 'c': 7}\n",
    "# df = pd.DataFrame([dic1, dic2, dict3], index=['k', 'l', 'm'])\n",
    "df = pd.DataFrame([dic1, dic2, dict3], index=['k', 'l', 'm'])\n",
    "# df['cumul'] = df['a'] + df['b'] + df['c']\n",
    "df['cumul'] = df.sum(axis=0)\n",
    "print(df, end=\"\\n\\n\")\n",
    "\n",
    "\n",
    "# print(\"*************************\", end=\"\\n\\n\")\n",
    "draw_stars_line()\n",
    "draw_stars_line(char='-', margin=0)\n",
    "print(help(draw_stars_line))\n",
    "# df1 = df.loc[[0], ['c']]\n",
    "df1 = df.loc[df['a'] < 5]\n",
    "print(df1)"
   ]
  },
  {
   "cell_type": "code",
   "execution_count": null,
   "id": "8b5af04b",
   "metadata": {},
   "outputs": [],
   "source": []
  },
  {
   "cell_type": "code",
   "execution_count": 23,
   "id": "12ca3cbb",
   "metadata": {},
   "outputs": [
    {
     "name": "stdout",
     "output_type": "stream",
     "text": [
      "<class 'numpy.ndarray'>\n",
      "<class 'list'>\n"
     ]
    }
   ],
   "source": [
    "l = [1, 2, 3, 1, 90, 2, 3, 4, 5]\n",
    "np_l = pd.Series(l).unique()\n",
    "print(type(np_l))\n",
    "np_l = np_l.tolist()\n",
    "print(type(np_l))"
   ]
  },
  {
   "cell_type": "code",
   "execution_count": 24,
   "id": "69c937f5",
   "metadata": {},
   "outputs": [
    {
     "name": "stdout",
     "output_type": "stream",
     "text": [
      "<class 'pandas._libs.tslibs.timestamps.Timestamp'>\n",
      "<class 'datetime.date'>\n"
     ]
    }
   ],
   "source": [
    "date_tsp = pd.to_datetime('2023-10-01 12:00:00')\n",
    "print(type(date_tsp))\n",
    "print(type(date_tsp.date()))"
   ]
  },
  {
   "cell_type": "code",
   "execution_count": null,
   "id": "ba7512d6",
   "metadata": {},
   "outputs": [],
   "source": []
  }
 ],
 "metadata": {
  "kernelspec": {
   "display_name": "Python 3",
   "language": "python",
   "name": "python3"
  },
  "language_info": {
   "codemirror_mode": {
    "name": "ipython",
    "version": 3
   },
   "file_extension": ".py",
   "mimetype": "text/x-python",
   "name": "python",
   "nbconvert_exporter": "python",
   "pygments_lexer": "ipython3",
   "version": "3.13.3"
  }
 },
 "nbformat": 4,
 "nbformat_minor": 5
}
