{
 "cells": [
  {
   "cell_type": "markdown",
   "id": "c3dbf891",
   "metadata": {},
   "source": [
    "**DATA IMPORTING**"
   ]
  },
  {
   "cell_type": "code",
   "execution_count": null,
   "id": "e04ebc44",
   "metadata": {},
   "outputs": [],
   "source": [
    "# import packages\n",
    "import os\n",
    "import sys\n",
    "import numpy as np\n",
    "import matplotlib.pyplot as plt\n",
    "import pandas as pd\n",
    "import seaborn as sns\n",
    "import pickle;\n",
    "import sas7bdat as sas\n",
    "import h5py\n",
    "\n"
   ]
  },
  {
   "cell_type": "code",
   "execution_count": null,
   "id": "2244e0bd",
   "metadata": {},
   "outputs": [
    {
     "data": {
      "text/html": [
       "<div>\n",
       "<style scoped>\n",
       "    .dataframe tbody tr th:only-of-type {\n",
       "        vertical-align: middle;\n",
       "    }\n",
       "\n",
       "    .dataframe tbody tr th {\n",
       "        vertical-align: top;\n",
       "    }\n",
       "\n",
       "    .dataframe thead th {\n",
       "        text-align: right;\n",
       "    }\n",
       "</style>\n",
       "<table border=\"1\" class=\"dataframe\">\n",
       "  <thead>\n",
       "    <tr style=\"text-align: right;\">\n",
       "      <th></th>\n",
       "      <th>name</th>\n",
       "      <th>age</th>\n",
       "      <th>height</th>\n",
       "      <th>gender</th>\n",
       "      <th>city</th>\n",
       "      <th>salary</th>\n",
       "      <th>department</th>\n",
       "    </tr>\n",
       "  </thead>\n",
       "  <tbody>\n",
       "    <tr>\n",
       "      <th>0</th>\n",
       "      <td>Alice</td>\n",
       "      <td>25</td>\n",
       "      <td>5.5</td>\n",
       "      <td>F</td>\n",
       "      <td>New York</td>\n",
       "      <td>5000</td>\n",
       "      <td>HR</td>\n",
       "    </tr>\n",
       "    <tr>\n",
       "      <th>1</th>\n",
       "      <td>Bob</td>\n",
       "      <td>35</td>\n",
       "      <td>6.0</td>\n",
       "      <td>M</td>\n",
       "      <td>Los Angeles</td>\n",
       "      <td>6000</td>\n",
       "      <td>IT</td>\n",
       "    </tr>\n",
       "  </tbody>\n",
       "</table>\n",
       "</div>"
      ],
      "text/plain": [
       "    name  age  height gender         city  salary department\n",
       "0  Alice   25     5.5      F     New York    5000         HR\n",
       "1    Bob   35     6.0      M  Los Angeles    6000         IT"
      ]
     },
     "execution_count": 22,
     "metadata": {},
     "output_type": "execute_result"
    }
   ],
   "source": [
    "#data = pd.read_excel('employees_data.xlsx', index_col=0) # read Excel file to DataFrame object\n",
    "data = pd.ExcelFile('employees_data.xlsx') # read Excel file to ExcelFile object\n",
    "\n",
    "# data.head()\n",
    "type(data)\n",
    "\n",
    "# ExcelFile to DataFrame object\n",
    "data = data.parse('Sheet1', index_col=0) # read the first sheet of the Excel file to DataFrame object\n",
    "#or data = data.parse(0, index_col=0) # read the first sheet of the Excel file to DataFrame object\n",
    "data.head(2)"
   ]
  },
  {
   "cell_type": "code",
   "execution_count": 27,
   "id": "4c7bc8e4",
   "metadata": {},
   "outputs": [
    {
     "name": "stdout",
     "output_type": "stream",
     "text": [
      "CSV file read successfully.\n"
     ]
    }
   ],
   "source": [
    "try:\n",
    "    pd.read_csv('employees_data.csv', index_col=0)\n",
    "    print(\"CSV file read successfully.\")\n",
    "except FileNotFoundError:\n",
    "    print(\"File not found. Please check the file path and name.\")\n",
    "    "
   ]
  },
  {
   "cell_type": "code",
   "execution_count": 31,
   "id": "893d47a7",
   "metadata": {},
   "outputs": [
    {
     "data": {
      "text/plain": [
       "dict_items([('Name', 'John'), ('Age', 30), ('City', 'New York')])"
      ]
     },
     "execution_count": 31,
     "metadata": {},
     "output_type": "execute_result"
    }
   ],
   "source": [
    "dict = {'Name': 'John', 'Age': 30, 'City': 'New York'} # create a dictionary\n",
    "# convert dictionary to DataFrame object\n",
    "\n",
    "dict.keys() # get the keys of the dictionary\n",
    "dict.values() # get the values of the dictionary\n",
    "dict.items() # get the items of the dictionary"
   ]
  },
  {
   "cell_type": "code",
   "execution_count": null,
   "id": "70b3122f",
   "metadata": {},
   "outputs": [
    {
     "name": "stdout",
     "output_type": "stream",
     "text": [
      "DataFrame written to SQLite database successfully.\n"
     ]
    }
   ],
   "source": [
    "# SQLite\n",
    "from sqlalchemy import create_engine\n",
    "\n",
    "# create sqlite database from DataFrame object\n",
    "try:\n",
    "    engine = create_engine('sqlite:///employees_data.db') # create SQLite engine\n",
    "    data.to_sql('employees', engine, if_exists='replace', index=False) # write DataFrame to SQLite database\n",
    "    print(\"DataFrame written to SQLite database successfully.\")\n",
    "except Exception as e:\n",
    "    print(f\"An error occurred: {e}\")"
   ]
  },
  {
   "cell_type": "code",
   "execution_count": 35,
   "id": "36e2d286",
   "metadata": {},
   "outputs": [
    {
     "data": {
      "text/html": [
       "<div>\n",
       "<style scoped>\n",
       "    .dataframe tbody tr th:only-of-type {\n",
       "        vertical-align: middle;\n",
       "    }\n",
       "\n",
       "    .dataframe tbody tr th {\n",
       "        vertical-align: top;\n",
       "    }\n",
       "\n",
       "    .dataframe thead th {\n",
       "        text-align: right;\n",
       "    }\n",
       "</style>\n",
       "<table border=\"1\" class=\"dataframe\">\n",
       "  <thead>\n",
       "    <tr style=\"text-align: right;\">\n",
       "      <th></th>\n",
       "      <th>name</th>\n",
       "      <th>age</th>\n",
       "      <th>height</th>\n",
       "      <th>gender</th>\n",
       "      <th>city</th>\n",
       "      <th>salary</th>\n",
       "      <th>department</th>\n",
       "    </tr>\n",
       "  </thead>\n",
       "  <tbody>\n",
       "    <tr>\n",
       "      <th>0</th>\n",
       "      <td>Alice</td>\n",
       "      <td>25</td>\n",
       "      <td>5.5</td>\n",
       "      <td>F</td>\n",
       "      <td>New York</td>\n",
       "      <td>5000</td>\n",
       "      <td>HR</td>\n",
       "    </tr>\n",
       "    <tr>\n",
       "      <th>1</th>\n",
       "      <td>Bob</td>\n",
       "      <td>35</td>\n",
       "      <td>6.0</td>\n",
       "      <td>M</td>\n",
       "      <td>Los Angeles</td>\n",
       "      <td>6000</td>\n",
       "      <td>IT</td>\n",
       "    </tr>\n",
       "    <tr>\n",
       "      <th>2</th>\n",
       "      <td>Charlie</td>\n",
       "      <td>30</td>\n",
       "      <td>5.8</td>\n",
       "      <td>M</td>\n",
       "      <td>Chicago</td>\n",
       "      <td>7000</td>\n",
       "      <td>Finance</td>\n",
       "    </tr>\n",
       "    <tr>\n",
       "      <th>3</th>\n",
       "      <td>David</td>\n",
       "      <td>40</td>\n",
       "      <td>5.9</td>\n",
       "      <td>M</td>\n",
       "      <td>Houston</td>\n",
       "      <td>8000</td>\n",
       "      <td>Marketing</td>\n",
       "    </tr>\n",
       "    <tr>\n",
       "      <th>4</th>\n",
       "      <td>Eva</td>\n",
       "      <td>38</td>\n",
       "      <td>5.7</td>\n",
       "      <td>F</td>\n",
       "      <td>Phoenix</td>\n",
       "      <td>9000</td>\n",
       "      <td>Sales</td>\n",
       "    </tr>\n",
       "    <tr>\n",
       "      <th>5</th>\n",
       "      <td>Frank</td>\n",
       "      <td>43</td>\n",
       "      <td>6.1</td>\n",
       "      <td>M</td>\n",
       "      <td>Philadelphia</td>\n",
       "      <td>10000</td>\n",
       "      <td>Operations</td>\n",
       "    </tr>\n",
       "  </tbody>\n",
       "</table>\n",
       "</div>"
      ],
      "text/plain": [
       "      name  age  height gender          city  salary  department\n",
       "0    Alice   25     5.5      F      New York    5000          HR\n",
       "1      Bob   35     6.0      M   Los Angeles    6000          IT\n",
       "2  Charlie   30     5.8      M       Chicago    7000     Finance\n",
       "3    David   40     5.9      M       Houston    8000   Marketing\n",
       "4      Eva   38     5.7      F       Phoenix    9000       Sales\n",
       "5    Frank   43     6.1      M  Philadelphia   10000  Operations"
      ]
     },
     "execution_count": 35,
     "metadata": {},
     "output_type": "execute_result"
    }
   ],
   "source": [
    "# Read SQLite data with Pandas\n",
    "\n",
    "engine = create_engine('sqlite:///employees_data.db') # create SQLite engine\n",
    "pd.read_sql_query('SELECT * FROM employees', engine) # read SQLite database to DataFrame object"
   ]
  }
 ],
 "metadata": {
  "kernelspec": {
   "display_name": "Python 3",
   "language": "python",
   "name": "python3"
  },
  "language_info": {
   "codemirror_mode": {
    "name": "ipython",
    "version": 3
   },
   "file_extension": ".py",
   "mimetype": "text/x-python",
   "name": "python",
   "nbconvert_exporter": "python",
   "pygments_lexer": "ipython3",
   "version": "3.13.3"
  }
 },
 "nbformat": 4,
 "nbformat_minor": 5
}
