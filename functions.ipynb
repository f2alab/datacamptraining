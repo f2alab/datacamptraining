{
 "cells": [
  {
   "cell_type": "markdown",
   "id": "0a9944de",
   "metadata": {},
   "source": [
    "**FUNCTION DEFINTION**"
   ]
  },
  {
   "cell_type": "code",
   "execution_count": 17,
   "id": "6ee3a6d2",
   "metadata": {},
   "outputs": [
    {
     "name": "stdout",
     "output_type": "stream",
     "text": [
      "Hello, World!\n",
      "This function prints 'Hello, World!' to the console.\n"
     ]
    }
   ],
   "source": [
    "from typing import overload\n",
    "\n",
    "\n",
    "#@overload\n",
    "def mainfunction():\n",
    "    \"\"\"This function prints 'Hello, World!' to the console.\"\"\"\n",
    "    # Print a greeting message\n",
    "    print(\"Hello, World!\")\n",
    "    return 0\n",
    "\n",
    "if __name__ == \"__main__\":\n",
    "    # Call the main function\n",
    "    mainfunction()\n",
    "\n",
    "    print(mainfunction.__doc__)"
   ]
  },
  {
   "cell_type": "markdown",
   "id": "5b67d171",
   "metadata": {},
   "source": [
    "**NESTED FUNCTIONS**"
   ]
  },
  {
   "cell_type": "code",
   "execution_count": 18,
   "id": "5007f9af",
   "metadata": {},
   "outputs": [
    {
     "name": "stdout",
     "output_type": "stream",
     "text": [
      "I'm Doe. My parent is John\n",
      "Child Function\n",
      "Parent Function\n",
      "I'm AGAF. My parent is John\n"
     ]
    }
   ],
   "source": [
    "def parent(parent_name):\n",
    "    \"\"\"Parent Function\"\"\"\n",
    "    def child(child_name):\n",
    "        \"\"\"Child Function\"\"\"\n",
    "        #return \"I'm the child of \" + parent_name + \" and my name is \" + child_name\n",
    "        return f\"I'm {child_name}. My parent is {parent_name}\"\n",
    "    return child\n",
    "\n",
    "child = parent(\"John\")\n",
    "print(child(\"Doe\"))  # Output: Im the child of John and my name is Doe\n",
    "\n",
    "print(child.__doc__)  # Output: Child Function\n",
    "print(parent.__doc__)  # Output: Parent Function\n",
    "\n",
    "print(child(\"AGAF\"))"
   ]
  },
  {
   "cell_type": "markdown",
   "id": "08dc4903",
   "metadata": {},
   "source": [
    "**DEFAULT AND FLEXIBLE ARGUMENTS**"
   ]
  },
  {
   "cell_type": "code",
   "execution_count": 19,
   "id": "933a86c7",
   "metadata": {},
   "outputs": [],
   "source": [
    "#Function with default argument *exponent* set to 2\n",
    "def power(number, exponent=2):\n",
    "    \"\"\"Calculate the power of a number.\"\"\"\n",
    "    return number ** exponent\n",
    "\n",
    "# Function with flexible parameters\n",
    "def flexible_function(*args, **kwargs):\n",
    "    \"\"\"Function that accepts any number of positional and keyword arguments.\"\"\"\n",
    "    print(\"Positional arguments:\", args) \n",
    "    print(\"Keyword arguments:\", kwargs)\n",
    "    "
   ]
  },
  {
   "cell_type": "markdown",
   "id": "90cc2273",
   "metadata": {},
   "source": [
    "**LAMBDA FUNCTION**"
   ]
  },
  {
   "cell_type": "code",
   "execution_count": 20,
   "id": "b99b2f45",
   "metadata": {},
   "outputs": [
    {
     "name": "stdout",
     "output_type": "stream",
     "text": [
      "25\n",
      "<class 'function'>\n"
     ]
    }
   ],
   "source": [
    "# Lambda function\n",
    "square = lambda x: x ** 2\n",
    "print(square(5))  # Output: 25\n",
    "print(type(square))  # Output: <class 'function'>"
   ]
  },
  {
   "cell_type": "markdown",
   "id": "0120f355",
   "metadata": {},
   "source": [
    "**ANONYMOUS FUNCTIONS**"
   ]
  },
  {
   "cell_type": "code",
   "execution_count": 21,
   "id": "6ff8072a",
   "metadata": {},
   "outputs": [
    {
     "name": "stdout",
     "output_type": "stream",
     "text": [
      "[1, 4, 9, 16, 25]\n"
     ]
    }
   ],
   "source": [
    "# Anonymous function to add two numbers\n",
    "nums = [1, 2, 3, 4, 5]\n",
    "squared_nums = list(map(lambda x: x ** 2, nums))\n",
    "\n",
    "print(squared_nums)  # Output: [1, 4, 9, 16, 25]"
   ]
  },
  {
   "cell_type": "markdown",
   "id": "fdc98ea7",
   "metadata": {},
   "source": [
    "**EXCEPTIONS - ERROR**"
   ]
  },
  {
   "cell_type": "code",
   "execution_count": 22,
   "id": "e4386bfe",
   "metadata": {},
   "outputs": [
    {
     "name": "stdout",
     "output_type": "stream",
     "text": [
      "5\n"
     ]
    }
   ],
   "source": [
    "def add(x, y):\n",
    "    \"\"\"Add two numbers.\"\"\"\n",
    "    if not isinstance(x, (int, float)) or not isinstance(y, (int, float)):\n",
    "        raise TypeError(\"Both arguments must be numbers.\")\n",
    "    return x + y\n",
    "\n",
    "a = add(2, 3)  # Output: 5\n",
    "print(a)  # Output: 5"
   ]
  },
  {
   "cell_type": "markdown",
   "id": "71bf6861",
   "metadata": {},
   "source": [
    "**ITERATOR**"
   ]
  },
  {
   "cell_type": "code",
   "execution_count": 23,
   "id": "d7109c0c",
   "metadata": {},
   "outputs": [
    {
     "name": "stdout",
     "output_type": "stream",
     "text": [
      "2 3 4\n",
      "1 2 3 4\n",
      "2 3 4\n"
     ]
    }
   ],
   "source": [
    "\n",
    "r = range(2, 5)\n",
    "liste = [1, 2, 3, 4]\n",
    "iterator = iter(r)\n",
    "print(*r)\n",
    "print(*liste)\n",
    "print(*iterator)"
   ]
  },
  {
   "cell_type": "code",
   "execution_count": 24,
   "id": "2af98406",
   "metadata": {},
   "outputs": [
    {
     "name": "stdout",
     "output_type": "stream",
     "text": [
      "[(1, 5)]\n",
      "1 2 3\n"
     ]
    }
   ],
   "source": [
    "a = [1, 2, 3, 4]\n",
    "b = [5, ]\n",
    "z = zip(a, b)\n",
    "print(list(z))  # Output: [(1, 5), (2, 6), (3, 7), (4, 8)]\n",
    "\n",
    "# Unpacking a list into variables\n",
    "a, b, c = [1, 2, 3]\n",
    "print(a, b, c)  # Output: 1 2 3\n",
    "\n"
   ]
  },
  {
   "cell_type": "markdown",
   "id": "a11c3509",
   "metadata": {},
   "source": [
    "**LIST COMPREHENSION**"
   ]
  },
  {
   "cell_type": "code",
   "execution_count": 25,
   "id": "fba0eeb3",
   "metadata": {},
   "outputs": [
    {
     "name": "stdout",
     "output_type": "stream",
     "text": [
      "{0: 'h', 1: 'e', 2: 'l', 3: 'l', 4: 'o'}\n",
      "<class 'dict'>\n"
     ]
    }
   ],
   "source": [
    "lc = {k:v for k, v in enumerate(\"hello\")}\n",
    "print(lc)  \n",
    "print(type(lc))  \n",
    "\n"
   ]
  },
  {
   "cell_type": "markdown",
   "id": "d216c0f2",
   "metadata": {},
   "source": [
    "**GENERATOR**"
   ]
  },
  {
   "cell_type": "code",
   "execution_count": 26,
   "id": "a76d6129",
   "metadata": {},
   "outputs": [
    {
     "name": "stdout",
     "output_type": "stream",
     "text": [
      "<generator object <genexpr> at 0x0000028DAACE2EC0>\n",
      "<class 'generator'>\n",
      "<generator object generator_function at 0x0000028DAAFEA740>\n"
     ]
    }
   ],
   "source": [
    "lc = (v for v in \"hello\")\n",
    "print(lc)  \n",
    "print(type(lc))  \n",
    "\n",
    "def generator_function():\n",
    "    \"\"\"Generator function that yields numbers.\"\"\"\n",
    "    for i in lc:\n",
    "        yield i\n",
    "\n",
    "print(generator_function())  # Output: <generator object generator_function at 0x...>"
   ]
  },
  {
   "cell_type": "code",
   "execution_count": 27,
   "id": "9ede94fb",
   "metadata": {},
   "outputs": [
    {
     "name": "stdout",
     "output_type": "stream",
     "text": [
      "toto-ds\n"
     ]
    }
   ],
   "source": [
    "s= 'toto-ds'\n",
    "print(s.strip('-') )# remove leading and trailing '-'"
   ]
  },
  {
   "cell_type": "code",
   "execution_count": 28,
   "id": "37864fcf",
   "metadata": {},
   "outputs": [
    {
     "name": "stdout",
     "output_type": "stream",
     "text": [
      "TOTO-DS-\n"
     ]
    }
   ],
   "source": [
    "s = 'toto-ds-'\n",
    "print(s.upper())  # remove trailing '-'"
   ]
  },
  {
   "cell_type": "code",
   "execution_count": null,
   "id": "12108e54",
   "metadata": {},
   "outputs": [
    {
     "name": "stdout",
     "output_type": "stream",
     "text": [
      "2\n",
      "hello world\n",
      "5\n"
     ]
    }
   ],
   "source": [
    "def fa ():\n",
    "     hw = 'hello world'\n",
    "     n = 5\n",
    "     def fb():\n",
    "         print(hw * n)\n",
    "     return fb\n",
    "\n",
    "closure = fa().__closure__\n",
    "print(len(closure))\n",
    "for cell in closure:\n",
    "    print(cell.cell_contents)  # Output: hello world 5"
   ]
  },
  {
   "cell_type": "code",
   "execution_count": null,
   "id": "b74df7fd",
   "metadata": {},
   "outputs": [],
   "source": [
    "#DECORATORS\n",
    "def decorator_function(original_function):\n",
    "    \"\"\"Decorator function that modifies the behavior of the original function.\"\"\"\n",
    "    def wrapper_function():\n",
    "        print(\"Wrapper executed before {}\".format(original_function.__name__))"
   ]
  }
 ],
 "metadata": {
  "kernelspec": {
   "display_name": "Python 3",
   "language": "python",
   "name": "python3"
  },
  "language_info": {
   "codemirror_mode": {
    "name": "ipython",
    "version": 3
   },
   "file_extension": ".py",
   "mimetype": "text/x-python",
   "name": "python",
   "nbconvert_exporter": "python",
   "pygments_lexer": "ipython3",
   "version": "3.13.3"
  }
 },
 "nbformat": 4,
 "nbformat_minor": 5
}
