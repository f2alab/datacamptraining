{
 "cells": [
  {
   "cell_type": "markdown",
   "id": "5a997241",
   "metadata": {},
   "source": [
    "**HYPOTHESIS TESTING**"
   ]
  },
  {
   "cell_type": "code",
   "execution_count": 1,
   "id": "c16ace05",
   "metadata": {},
   "outputs": [],
   "source": [
    "# IMPORT LIBRARIES\n",
    "import numpy as np\n",
    "import matplotlib.pyplot as plt\n",
    "import seaborn as sns\n",
    "import pandas as pd\n",
    "from utils.utils import draw_stars_line"
   ]
  },
  {
   "cell_type": "code",
   "execution_count": 5,
   "id": "99925cb5",
   "metadata": {},
   "outputs": [
    {
     "name": "stdout",
     "output_type": "stream",
     "text": [
      "Index(['respondent', 'main_branch', 'hobbyist', 'age', 'age_1st_code',\n",
      "       'age_first_code_cut', 'comp_freq', 'comp_total', 'converted_comp',\n",
      "       'country', 'currency_desc', 'currency_symbol',\n",
      "       'database_desire_next_year', 'database_worked_with', 'dev_type',\n",
      "       'ed_level', 'employment', 'ethnicity', 'gender', 'job_factors',\n",
      "       'job_sat', 'job_seek', 'language_desire_next_year',\n",
      "       'language_worked_with', 'misc_tech_desire_next_year',\n",
      "       'misc_tech_worked_with', 'new_collab_tools_desire_next_year',\n",
      "       'new_collab_tools_worked_with', 'new_dev_ops', 'new_dev_ops_impt',\n",
      "       'new_ed_impt', 'new_job_hunt', 'new_job_hunt_research', 'new_learn',\n",
      "       'new_off_topic', 'new_onboard_good', 'new_other_comms', 'new_overtime',\n",
      "       'new_purchase_research', 'purple_link', 'newso_sites', 'new_stuck',\n",
      "       'op_sys', 'org_size', 'platform_desire_next_year',\n",
      "       'platform_worked_with', 'purchase_what', 'sexuality', 'so_account',\n",
      "       'so_comm', 'so_part_freq', 'so_visit_freq', 'survey_ease',\n",
      "       'survey_length', 'trans', 'undergrad_major',\n",
      "       'webframe_desire_next_year', 'webframe_worked_with', 'welcome_change',\n",
      "       'work_week_hrs', 'years_code', 'years_code_pro', 'age_cat'],\n",
      "      dtype='object')\n"
     ]
    }
   ],
   "source": [
    "# Read the data\n",
    "data = pd.read_feather(\"stack_overflow.feather\")\n",
    "# show the first 5 rows\n",
    "# print(data.head())\n",
    "\n",
    "# print column names\n",
    "print(data.columns)"
   ]
  }
 ],
 "metadata": {
  "kernelspec": {
   "display_name": "Python 3",
   "language": "python",
   "name": "python3"
  },
  "language_info": {
   "codemirror_mode": {
    "name": "ipython",
    "version": 3
   },
   "file_extension": ".py",
   "mimetype": "text/x-python",
   "name": "python",
   "nbconvert_exporter": "python",
   "pygments_lexer": "ipython3",
   "version": "3.13.3"
  }
 },
 "nbformat": 4,
 "nbformat_minor": 5
}
