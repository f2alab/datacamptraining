{
 "cells": [
  {
   "cell_type": "markdown",
   "id": "5a997241",
   "metadata": {},
   "source": [
    "# **HYPOTHESIS TESTING**"
   ]
  },
  {
   "cell_type": "markdown",
   "id": "64cf05ff",
   "metadata": {},
   "source": [
    "## **PARAMETRIC TEST**"
   ]
  },
  {
   "cell_type": "markdown",
   "id": "bab47986",
   "metadata": {},
   "source": [
    "### CONDITIONS\n",
    "\n",
    "**Pour effectuer un test d'hypothèse et avoir la certitude que le résultat est juste**, un échantillon doit répondre à *trois exigences*:\n",
    "\n",
    "**1.** il s'agit d'un échantillon aléatoire de la population,<br>\n",
    "**2.** les observations sont indépendantes et<br>\n",
    "**3.** le nombre d'observations est suffisant. Parmi ces conditions, seule la dernière est facilement testable avec du code.\n",
    "\n",
    "- Pour un *Test t à deux échantillons*, la taille doit être supérieur ou égale à 30. \n",
    "> <code># check dataset size <br> len(df) >= 30</code>\n",
    "\n",
    "- Pour un *Test de proportion à un échantillon*, la taille doit être supérieur ou égale à 10\n",
    "> <code># check dataset size <br> len(df) >= 10</code>\n",
    "\n",
    "- Pour un *Test d'indépendance KHI2*, la taille doit être supérieur ou égale à 5\n",
    "> <code># check dataset size <br> len(df) >= 5</code>\n",
    "\n",
    "- Pour un *Test ANOVA*, la taille doit être supérieur ou égale à 30\n",
    "> <code># check dataset size <br> len(df) >= 30</code>"
   ]
  },
  {
   "cell_type": "code",
   "execution_count": 116,
   "id": "c16ace05",
   "metadata": {},
   "outputs": [],
   "source": [
    "# IMPORT LIBRARIES\n",
    "import numpy as np\n",
    "import matplotlib.pyplot as plt\n",
    "import seaborn as sns\n",
    "import pandas as pd\n",
    "from utils.utils import *"
   ]
  },
  {
   "cell_type": "markdown",
   "id": "b385dd19",
   "metadata": {},
   "source": [
    "***z statistic** is used when using one sample statistic to estimate a population parameter*\n",
    "\n",
    "***t statistic** is used when using multiple sample statistic to estimate a population parameter*"
   ]
  },
  {
   "cell_type": "code",
   "execution_count": 117,
   "id": "99925cb5",
   "metadata": {},
   "outputs": [
    {
     "name": "stdout",
     "output_type": "stream",
     "text": [
      "['respondent', 'main_branch', 'hobbyist', 'age', 'age_1st_code', 'age_first_code_cut', 'comp_freq', 'comp_total', 'converted_comp', 'country', 'currency_desc', 'currency_symbol', 'database_desire_next_year', 'database_worked_with', 'dev_type', 'ed_level', 'employment', 'ethnicity', 'gender', 'job_factors', 'job_sat', 'job_seek', 'language_desire_next_year', 'language_worked_with', 'misc_tech_desire_next_year', 'misc_tech_worked_with', 'new_collab_tools_desire_next_year', 'new_collab_tools_worked_with', 'new_dev_ops', 'new_dev_ops_impt', 'new_ed_impt', 'new_job_hunt', 'new_job_hunt_research', 'new_learn', 'new_off_topic', 'new_onboard_good', 'new_other_comms', 'new_overtime', 'new_purchase_research', 'purple_link', 'newso_sites', 'new_stuck', 'op_sys', 'org_size', 'platform_desire_next_year', 'platform_worked_with', 'purchase_what', 'sexuality', 'so_account', 'so_comm', 'so_part_freq', 'so_visit_freq', 'survey_ease', 'survey_length', 'trans', 'undergrad_major', 'webframe_desire_next_year', 'webframe_worked_with', 'welcome_change', 'work_week_hrs', 'years_code', 'years_code_pro', 'age_cat']\n",
      "['age', 'age_1st_code', 'age_first_code_cut', 'language_desire_next_year', 'language_worked_with', 'age_cat']\n"
     ]
    }
   ],
   "source": [
    "# Read the data\n",
    "data = pd.read_feather(\"stack_overflow.feather\")\n",
    "# show the first 5 rows\n",
    "# print(data.head())\n",
    "\n",
    "# print column names\n",
    "columns = list(data.columns)\n",
    "print(columns)\n",
    "\n",
    "# Filter columns that contain 'age'\n",
    "# columns = [col for col in columns if 'age' in col]\n",
    "columns = search_string_in_columns(df=data, search_string='age')\n",
    "\n",
    "print(columns)"
   ]
  },
  {
   "cell_type": "markdown",
   "id": "153d5bfe",
   "metadata": {},
   "source": [
    "**SCORE Z: COMPARE SAMPLE STATISTICS ACCROS ON GROUP OF VARIABLE**"
   ]
  },
  {
   "cell_type": "code",
   "execution_count": 118,
   "id": "4491a5f1",
   "metadata": {},
   "outputs": [
    {
     "name": "stdout",
     "output_type": "stream",
     "text": [
      "Mean salary: 119574.71738168952\n",
      "Standard deviation of salary: 265556.0729116986\n",
      "0   -0.158229\n",
      "1   -0.167967\n",
      "2    1.788565\n",
      "3    7.081086\n",
      "4   -0.307877\n",
      "Name: z_score, dtype: float64\n"
     ]
    }
   ],
   "source": [
    "# Calculate the mean and standard deviation of the salary\n",
    "col = 'converted_comp'\n",
    "mean_salary = data[col].mean()\n",
    "std_salary = data[col].std()\n",
    "print(f\"Mean salary: {mean_salary}\")\n",
    "print(f\"Standard deviation of salary: {std_salary}\")\n",
    "\n",
    "# Calculate Z-scores\n",
    "data[\"z_score\"] = (data[col] - mean_salary) / std_salary\n",
    "# print the first 5 rows\n",
    "print(data[\"z_score\"].head())\n"
   ]
  },
  {
   "cell_type": "code",
   "execution_count": 119,
   "id": "06f99a8d",
   "metadata": {},
   "outputs": [
    {
     "data": {
      "text/plain": [
       "Index(['age_first_code_cut', 'job_sat'], dtype='object')"
      ]
     },
     "execution_count": 119,
     "metadata": {},
     "output_type": "execute_result"
    }
   ],
   "source": [
    "num_col = 'converted_comp'\n",
    "cat_col = 'age_first_code_cut'\n",
    "data.select_dtypes('category').columns\n",
    "# Convert the categorical column to a category type\n",
    "data[cat_col] = data[cat_col].astype('category')\n",
    "\n",
    "data.select_dtypes('category').columns"
   ]
  },
  {
   "cell_type": "markdown",
   "id": "093bb249",
   "metadata": {},
   "source": [
    "**TEST T: COMPARE SAMPLE STATISTICS ACCROS GROUPS OF VARIABLE (2 GROUPS)**"
   ]
  },
  {
   "cell_type": "code",
   "execution_count": 120,
   "id": "952c2111",
   "metadata": {},
   "outputs": [],
   "source": [
    "# ARE USERS WHO FIRST PROGRAMMED AS CHILD COMPENSATED HIGHER THAN THOSE THAT STARTED AS ADULTS ?\n",
    "\n",
    "# NULL HYPOTHESIS: The mean compensation is the same for those who started programming as children and those who started as adults.\n",
    "# ALTERNATIVE HYPOTHESIS: The mean compensation is greater than the mean for those who started programming as children and those who started as adults.\n",
    "# \n"
   ]
  },
  {
   "cell_type": "code",
   "execution_count": 121,
   "id": "d2993f21",
   "metadata": {},
   "outputs": [
    {
     "name": "stdout",
     "output_type": "stream",
     "text": [
      "age_first_code_cut\n",
      "adult    1376\n",
      "child     885\n",
      "Name: count, dtype: int64\n",
      "\n",
      "\n",
      "**************************************************\n",
      "\n",
      "age_first_code_cut\n",
      "adult    111313.311047\n",
      "child    132419.570621\n",
      "Name: converted_comp, dtype: float64\n"
     ]
    }
   ],
   "source": [
    "# age_first_code_cut summary statistics\n",
    "age_first_code_cut = data[cat_col].value_counts()\n",
    "print(age_first_code_cut)\n",
    "\n",
    "draw_stars_line()\n",
    "\n",
    "# mean salary for each group\n",
    "mean_salary = data.groupby(cat_col, observed=True)[num_col].mean()\n",
    "print(mean_salary)"
   ]
  },
  {
   "cell_type": "code",
   "execution_count": 122,
   "id": "e7085af6",
   "metadata": {},
   "outputs": [
    {
     "name": "stdout",
     "output_type": "stream",
     "text": [
      "  age_first_code_cut  converted_comp\n",
      "0              adult   111313.311047\n",
      "1              child   132419.570621\n",
      "\n",
      "\n",
      "**************************************************\n",
      "\n",
      "  age_first_code_cut  converted_comp\n",
      "0              adult   271546.521729\n",
      "1              child   255585.240115\n",
      "\n",
      "\n",
      "**************************************************\n",
      "\n",
      "  age_first_code_cut  count\n",
      "0              adult   1376\n",
      "1              child    885\n",
      "1376\n"
     ]
    }
   ],
   "source": [
    "mean_salary = data.groupby(cat_col, observed=True)[num_col].mean().reset_index()\n",
    "print(mean_salary)\n",
    "draw_stars_line()\n",
    "std_salary = data.groupby(cat_col, observed=True)[num_col].std().reset_index()\n",
    "# count_group = data.groupby(cat_col, observed=True)[num_col].count()\n",
    "print(std_salary)\n",
    "draw_stars_line()\n",
    "\n",
    "count_group = data[cat_col].value_counts().reset_index()\n",
    "print(count_group)\n",
    "\n",
    "print(count_group.iloc[0,1])\n",
    "\n"
   ]
  },
  {
   "cell_type": "code",
   "execution_count": 123,
   "id": "2b57f4cb",
   "metadata": {},
   "outputs": [
    {
     "name": "stdout",
     "output_type": "stream",
     "text": [
      "21106.25957495728\n",
      "\n",
      "\n",
      "**************************************************\n",
      "\n",
      "11287.18430352594\n",
      "\n",
      "\n",
      "**************************************************\n",
      "\n",
      "t statistic is:  1.8699313316221844\n",
      "degrees of freedom is:  2259\n",
      "p-value is:  0.030811302165157595\n",
      "Reject the null hypothesis\n"
     ]
    }
   ],
   "source": [
    "# Calculate T statistic\n",
    "# T statistic = (mean1 - mean2) / sqrt((std1^2/n1) + (std2^2/n2))\n",
    "\n",
    "numerator = mean_salary.iloc[1,1] - mean_salary.iloc[0,1]\n",
    "print(numerator)\n",
    "draw_stars_line()\n",
    "\n",
    "denominator = np.sqrt((std_salary.iloc[0,1]**2/count_group.iloc[0,1]) + (std_salary.iloc[1,1]**2/count_group.iloc[1,1]))\n",
    "\n",
    "print(denominator)\n",
    "draw_stars_line()\n",
    "\n",
    "t_statistic = numerator / denominator\n",
    "print(\"t statistic is: \", t_statistic)\n",
    "\n",
    "# Calculate the degrees of freedom\n",
    "# degrees of freedom = n1 + n2 - 2\n",
    "df = count_group.iloc[0,1] + count_group.iloc[1,1] - 2\n",
    "print(\"degrees of freedom is: \", df)\n",
    "\n",
    "# Calculate the critical value\n",
    "# critical value = t.ppf(1 - alpha, df)\n",
    "from scipy.stats import t\n",
    "alpha = 0.05\n",
    "\n",
    "\n",
    "# Calculate the p-value\n",
    "# p-value = 1 - t.cdf(t_statistic, df)\n",
    "p_value = 1 - t.cdf(t_statistic, df) #cdf = cumulative distribution function\n",
    "print(\"p-value is: \", p_value)\n",
    "\n",
    "# Compare the p-value to the significance level\n",
    "if p_value < alpha:\n",
    "    print(\"Reject the null hypothesis\")\n",
    "else:\n",
    "    print(\"Fail to reject the null hypothesis\")"
   ]
  },
  {
   "cell_type": "markdown",
   "id": "3602e5d6",
   "metadata": {},
   "source": [
    "**PAIRED T TEST: COMPARE SAMPLE STATISTICS ACCROS MULTIPLE GROUP OF VARIABLE**"
   ]
  },
  {
   "cell_type": "code",
   "execution_count": null,
   "id": "072b33f5",
   "metadata": {},
   "outputs": [
    {
     "name": "stdout",
     "output_type": "stream",
     "text": [
      "        state   county  repub_percent_08  repub_percent_12\n",
      "0     Alabama     Hale         38.957877         37.139882\n",
      "1    Arkansas   Nevada         56.726272         58.983452\n",
      "2  California     Lake         38.896719         39.331367\n",
      "3  California  Ventura         42.923190         45.250693\n",
      "4    Colorado  Lincoln         74.522569         73.764757\n",
      "\n",
      "\n",
      "**************************************************\n",
      "\n",
      "     state    county  dem_percent_12  dem_percent_16\n",
      "0  Alabama   Bullock       76.305900       74.946921\n",
      "1  Alabama   Chilton       19.453671       15.847352\n",
      "2  Alabama      Clay       26.673672       18.674517\n",
      "3  Alabama   Cullman       14.661752       10.028252\n",
      "4  Alabama  Escambia       36.915731       31.020546\n"
     ]
    }
   ],
   "source": [
    "# Import dataset\n",
    "repub_08_12 = pd.read_feather('repub_votes_potus_08_12.feather')\n",
    "repub_votes_small = repub_08_12\n",
    "dem_12_16 = pd.read_feather('dem_votes_potus_12_16.feather')\n",
    "sample_dem_12_16 = dem_12_16\n",
    "# Show the first 5 rows\n",
    "print(repub_votes_small.head())\n",
    "draw_stars_line()\n",
    "print(sample_dem_12_16.head())"
   ]
  },
  {
   "cell_type": "code",
   "execution_count": null,
   "id": "55e09088",
   "metadata": {},
   "outputs": [
    {
     "name": "stdout",
     "output_type": "stream",
     "text": [
      "        state   county  repub_percent_08  repub_percent_12      diff\n",
      "0     Alabama     Hale         38.957877         37.139882  1.817995\n",
      "1    Arkansas   Nevada         56.726272         58.983452 -2.257179\n",
      "2  California     Lake         38.896719         39.331367 -0.434648\n",
      "3  California  Ventura         42.923190         45.250693 -2.327503\n",
      "4    Colorado  Lincoln         74.522569         73.764757  0.757812\n",
      "\n",
      "\n",
      "**************************************************\n",
      "\n"
     ]
    },
    {
     "data": {
      "text/plain": [
       "Text(0.5, 1.0, 'Distribution of the difference between 2008 and 2012 Republican votes')"
      ]
     },
     "execution_count": 125,
     "metadata": {},
     "output_type": "execute_result"
    },
    {
     "data": {
      "image/png": "[encoded data removed]",
      "text/plain": [
       "<Figure size 640x480 with 1 Axes>"
      ]
     },
     "metadata": {},
     "output_type": "display_data"
    }
   ],
   "source": [
    "# USE THE sample_repub_08_12 TO MAKE PAIRES T TEST\n",
    "\n",
    "#Add difference column\n",
    "rep_08 = 'repub_percent_08'\n",
    "rep_12 = 'repub_percent_12'\n",
    "repub_votes_small['diff'] = repub_votes_small[rep_08] - repub_votes_small[rep_12]\n",
    "# Show the first 5 rows\n",
    "print(repub_votes_small.head())\n",
    "draw_stars_line()\n",
    "\n",
    "# show the distribution of the difference\n",
    "\n",
    "sns.histplot(repub_votes_small['diff'], bins=20, kde=True)\n",
    "# sns.kdeplot(sample_repub_08_12['diff'], color='red')\n",
    "plt.title('Distribution of the difference between 2008 and 2012 Republican votes')\n",
    " \n"
   ]
  },
  {
   "cell_type": "code",
   "execution_count": null,
   "id": "d57d2705",
   "metadata": {},
   "outputs": [
    {
     "name": "stdout",
     "output_type": "stream",
     "text": [
      "count    100.000000\n",
      "mean      -2.877109\n",
      "std        5.136738\n",
      "min      -16.730398\n",
      "25%       -4.966043\n",
      "50%       -3.052331\n",
      "75%       -0.786672\n",
      "max       36.273633\n",
      "Name: diff, dtype: float64\n",
      "xbar_diff:  -2.877109041242944\n",
      "\n",
      "\n",
      "**************************************************\n",
      "\n",
      "std_diff:  5.136737887231852\n",
      "\n",
      "\n",
      "**************************************************\n",
      "\n",
      "n:  100.0\n",
      "\n",
      "\n",
      "**************************************************\n",
      "\n",
      "numerator:  -2.877109041242944\n",
      "denominator:  0.5136737887231851\n",
      "t statistic is:  -5.601043121928489\n",
      "degrees of freedom is:  99.0\n",
      "p-value is:  9.572537285272411e-08\n"
     ]
    }
   ],
   "source": [
    "# difference summary statistics\n",
    "diff_summary = repub_votes_small['diff'].describe()\n",
    "print(diff_summary)\n",
    "\n",
    "xbar_diff = diff_summary['mean']\n",
    "# or xbar_diff = sample_repub_08_12['diff'].mean()\n",
    "print(\"xbar_diff: \", xbar_diff)\n",
    "draw_stars_line()\n",
    "std_diff = diff_summary['std']\n",
    "# or s = sample_repub_08_12['diff'].std()\n",
    "print(\"std_diff: \", std_diff)\n",
    "draw_stars_line()\n",
    "n = diff_summary['count']\n",
    "# or n = sample_repub_08_12['diff'].count()\n",
    "# or n = len(sample_repub_08_12['diff'])\n",
    "# or n = len(sample_repub_08_12)\n",
    "print(\"n: \", n)\n",
    "draw_stars_line()\n",
    "\n",
    "# Calculate T statistic\n",
    "# T statistic = (xbar_diff - 0) / (std_diff / sqrt(n))\n",
    "numerator = xbar_diff - 0\n",
    "print(\"numerator: \", numerator)\n",
    "denominator = std_diff / np.sqrt(n)\n",
    "print(\"denominator: \", denominator)\n",
    "t_statistic = numerator / denominator\n",
    "print(\"t statistic is: \", t_statistic)\n",
    "\n",
    "# p-value\n",
    "# p-value = 1 - t.cdf(t_statistic, n-1)\n",
    "from scipy.stats import t\n",
    "alpha = 0.05\n",
    "# Calculate the degrees of freedom\n",
    "df = n - 1\n",
    "print(\"degrees of freedom is: \", df)\n",
    "# Calculate the p-value\n",
    "p_value = t.cdf(t_statistic, df)\n",
    "print(\"p-value is: \", p_value)"
   ]
  },
  {
   "cell_type": "code",
   "execution_count": null,
   "id": "a27eb0a4",
   "metadata": {},
   "outputs": [
    {
     "name": "stdout",
     "output_type": "stream",
     "text": [
      "               T  dof alternative         p-val          CI95%   cohen-d  \\\n",
      "T-test -5.601043   99        less  9.572537e-08  [-inf, -2.02]  0.560104   \n",
      "\n",
      "             BF10     power  \n",
      "T-test  1.323e+05  0.999955  \n",
      "\n",
      "\n",
      "**************************************************\n",
      "\n",
      "9.572537285272479e-08\n",
      "               T  dof alternative         p-val          CI95%   cohen-d  \\\n",
      "T-test -5.601043   99        less  9.572537e-08  [-inf, -2.02]  0.217364   \n",
      "\n",
      "             BF10     power  \n",
      "T-test  1.323e+05  0.696338  \n"
     ]
    }
   ],
   "source": [
    "# Do same using pingouin library\n",
    "import pingouin as pg\n",
    "# Perform a paired t-test\n",
    "t_test = pg.ttest(x=repub_votes_small['diff'], y=0, alternative='less')\n",
    "print(t_test)\n",
    "draw_stars_line()\n",
    "print(t_test['p-val'].values[0])\n",
    "# or\n",
    "t_test2 = pg.ttest(x=repub_votes_small[rep_08], y=repub_votes_small[rep_12], paired=True, alternative='less')\n",
    "print(t_test2)"
   ]
  },
  {
   "cell_type": "code",
   "execution_count": null,
   "id": "84a6148e",
   "metadata": {},
   "outputs": [],
   "source": []
  },
  {
   "cell_type": "markdown",
   "id": "92a569e7",
   "metadata": {},
   "source": [
    "**ANOVA TEST**"
   ]
  },
  {
   "cell_type": "code",
   "execution_count": 128,
   "id": "c649960a",
   "metadata": {},
   "outputs": [
    {
     "name": "stdout",
     "output_type": "stream",
     "text": [
      "['job_factors', 'job_sat', 'job_seek', 'new_job_hunt', 'new_job_hunt_research']\n",
      "job_sat\n",
      "Very satisfied           879\n",
      "Slightly satisfied       680\n",
      "Slightly dissatisfied    342\n",
      "Neither                  201\n",
      "Very dissatisfied        159\n",
      "Name: count, dtype: int64\n"
     ]
    },
    {
     "data": {
      "text/plain": [
       "(array([   0.,  200.,  400.,  600.,  800., 1000.]),\n",
       " [Text(0.0, 0, '0'),\n",
       "  Text(200.0, 0, '200'),\n",
       "  Text(400.0, 0, '400'),\n",
       "  Text(600.0, 0, '600'),\n",
       "  Text(800.0, 0, '800'),\n",
       "  Text(1000.0, 0, '1000')])"
      ]
     },
     "execution_count": 128,
     "metadata": {},
     "output_type": "execute_result"
    },
    {
     "data": {
      "image/png": "[encoded data removed]",
      "text/plain": [
       "<Figure size 640x480 with 1 Axes>"
      ]
     },
     "metadata": {},
     "output_type": "display_data"
    }
   ],
   "source": [
    "data.columns\n",
    "print(search_string_in_columns(df=data, search_string='job'))\n",
    "\n",
    "# MAKE ANOVA TEST WITH job_sat COLUMN\n",
    "# job_sat = 'job_satisfaction'\n",
    "job_sat = 'job_sat'\n",
    "print(data[job_sat].value_counts(sort=True))\n",
    "\n",
    "#Visualize the data\n",
    "# sns.histplot(data[job_sat], bins=20, kde=True)\n",
    "sns.countplot( data[job_sat], color='red')\n",
    "plt.title('Distribution of job satisfaction')\n",
    "plt.xticks(rotation=45)\n",
    "\n",
    "\n"
   ]
  },
  {
   "cell_type": "code",
   "execution_count": 129,
   "id": "64edf440",
   "metadata": {},
   "outputs": [
    {
     "data": {
      "text/plain": [
       "<Axes: xlabel='converted_comp', ylabel='job_sat'>"
      ]
     },
     "execution_count": 129,
     "metadata": {},
     "output_type": "execute_result"
    },
    {
     "data": {
      "image/png": "[encoded data removed]",
      "text/plain": [
       "<Figure size 640x480 with 1 Axes>"
      ]
     },
     "metadata": {},
     "output_type": "display_data"
    }
   ],
   "source": [
    "# visualize distribution of job satisfaction by job\n",
    "sns.boxplot(y=job_sat, x='converted_comp', data=data)"
   ]
  },
  {
   "cell_type": "code",
   "execution_count": 130,
   "id": "02684289",
   "metadata": {},
   "outputs": [
    {
     "name": "stdout",
     "output_type": "stream",
     "text": [
      "    Source  ddof1  ddof2         F     p-unc       np2\n",
      "0  job_sat      4   2256  4.480485  0.001315  0.007882\n",
      "<class 'pandas.core.frame.DataFrame'>\n"
     ]
    }
   ],
   "source": [
    "# Anova test\n",
    "# Null hypothesis: The means of the groups are equal\n",
    "# Alternative hypothesis: At least one group mean is different\n",
    "# ANOVA test\n",
    "anova = pg.anova(data=data, dv='converted_comp', between= job_sat)\n",
    "print(anova)\n",
    "print(type(anova))"
   ]
  },
  {
   "cell_type": "code",
   "execution_count": null,
   "id": "ba72edf6",
   "metadata": {},
   "outputs": [
    {
     "name": "stdout",
     "output_type": "stream",
     "text": [
      "count    100.000000\n",
      "mean      -2.877109\n",
      "std        5.136738\n",
      "min      -16.730398\n",
      "25%       -4.966043\n",
      "50%       -3.052331\n",
      "75%       -0.786672\n",
      "max       36.273633\n",
      "Name: diff, dtype: float64\n"
     ]
    }
   ],
   "source": [
    "diff_summary = repub_votes_small['diff'].describe()\n",
    "print(diff_summary)"
   ]
  },
  {
   "cell_type": "markdown",
   "id": "739dc70a",
   "metadata": {},
   "source": [
    "**TEST KHI2**"
   ]
  },
  {
   "cell_type": "code",
   "execution_count": 132,
   "id": "0ff68d5e",
   "metadata": {},
   "outputs": [
    {
     "name": "stdout",
     "output_type": "stream",
     "text": [
      "['age', 'age_1st_code', 'age_first_code_cut', 'language_desire_next_year', 'language_worked_with', 'age_cat']\n",
      "job_sat                age_cat    \n",
      "Very dissatisfied      Under 30       0.509434\n",
      "                       At least 30    0.490566\n",
      "Slightly dissatisfied  Under 30       0.532164\n",
      "                       At least 30    0.467836\n",
      "Neither                Under 30       0.567164\n",
      "                       At least 30    0.432836\n",
      "Slightly satisfied     Under 30       0.564706\n",
      "                       At least 30    0.435294\n",
      "Very satisfied         Under 30       0.511945\n",
      "                       At least 30    0.488055\n",
      "Name: proportion, dtype: float64\n",
      "\n",
      "\n",
      "**************************************************\n",
      "\n",
      "age_cat                At least 30  Under 30\n",
      "job_sat                                     \n",
      "Very dissatisfied         0.490566  0.509434\n",
      "Slightly dissatisfied     0.467836  0.532164\n",
      "Neither                   0.432836  0.567164\n",
      "Slightly satisfied        0.435294  0.564706\n",
      "Very satisfied            0.488055  0.511945\n",
      "\n",
      "\n",
      "**************************************************\n",
      "\n"
     ]
    },
    {
     "data": {
      "text/plain": [
       "<Axes: xlabel='job_sat'>"
      ]
     },
     "execution_count": 132,
     "metadata": {},
     "output_type": "execute_result"
    },
    {
     "data": {
      "image/png": "[encoded data removed]",
      "text/plain": [
       "<Figure size 1000x600 with 1 Axes>"
      ]
     },
     "metadata": {},
     "output_type": "display_data"
    }
   ],
   "source": [
    "# proportion test\n",
    "print(search_string_in_columns(df=data, search_string='age'))\n",
    "age_cat = 'age_cat'\n",
    "props = data.groupby(job_sat, observed=False)[age_cat].value_counts(normalize=True)\n",
    "print(props)\n",
    "draw_stars_line()\n",
    "props_wide = props.unstack()\n",
    "print(props_wide) \n",
    "\n",
    "draw_stars_line()\n",
    "\n",
    "# Visualize the data\n",
    "props_wide.plot(kind='bar', stacked=True, figsize=(10, 6))\n"
   ]
  },
  {
   "cell_type": "code",
   "execution_count": 133,
   "id": "fd5a47a7",
   "metadata": {},
   "outputs": [
    {
     "name": "stdout",
     "output_type": "stream",
     "text": [
      "                 test    lambda      chi2  dof      pval    cramer     power\n",
      "0             pearson  1.000000  5.552373  4.0  0.235164  0.049555  0.437417\n",
      "1        cressie-read  0.666667  5.554106  4.0  0.235014  0.049563  0.437545\n",
      "2      log-likelihood  0.000000  5.558529  4.0  0.234632  0.049583  0.437871\n",
      "3       freeman-tukey -0.500000  5.562688  4.0  0.234274  0.049601  0.438178\n",
      "4  mod-log-likelihood -1.000000  5.567570  4.0  0.233854  0.049623  0.438538\n",
      "5              neyman -2.000000  5.579519  4.0  0.232828  0.049676  0.439419\n",
      "0    0.235164\n",
      "1    0.235014\n",
      "2    0.234632\n",
      "3    0.234274\n",
      "4    0.233854\n",
      "5    0.232828\n",
      "Name: pval, dtype: float64\n"
     ]
    }
   ],
   "source": [
    "# chi-square independence test\n",
    "# Null hypothesis: The two variables are independent\n",
    "# Alternative hypothesis: The two variables are not independent\n",
    "# Chi-square test\n",
    "excepted, observed, stats = pg.chi2_independence(data, x=job_sat, y=age_cat)\n",
    "\n",
    "print(stats)\n",
    "\n",
    "p_value = stats['pval']\n",
    "print(p_value)"
   ]
  },
  {
   "cell_type": "markdown",
   "id": "bc78aa8f",
   "metadata": {},
   "source": [
    "**TEST D'ADEQUATION DU KHI2**"
   ]
  },
  {
   "cell_type": "code",
   "execution_count": 134,
   "id": "57cada5d",
   "metadata": {},
   "outputs": [
    {
     "name": "stdout",
     "output_type": "stream",
     "text": [
      "purple_link\n",
      "Hello, old friend    1225\n",
      "Indifferent           405\n",
      "Amused                368\n",
      "Annoyed               263\n",
      "Name: count, dtype: int64\n",
      "\n",
      "\n",
      "**************************************************\n",
      "\n",
      "         purple_link     n\n",
      "2             Amused   368\n",
      "3            Annoyed   263\n",
      "0  Hello, old friend  1225\n",
      "1        Indifferent   405\n",
      "\n",
      "\n",
      "**************************************************\n",
      "\n"
     ]
    }
   ],
   "source": [
    "purple_link_counts = data['purple_link'].value_counts()\n",
    "print(purple_link_counts)\n",
    "draw_stars_line()\n",
    "\n",
    "\n",
    "purple_link_counts = purple_link_counts.reset_index().sort_values(by='purple_link')\n",
    "purple_link_counts.columns = ['purple_link', 'n']\n",
    "print(purple_link_counts)\n",
    "draw_stars_line()\n",
    "\n"
   ]
  },
  {
   "cell_type": "code",
   "execution_count": 135,
   "id": "71a6e6a0",
   "metadata": {},
   "outputs": [
    {
     "data": {
      "text/plain": [
       "<Axes: xlabel='purple_link', ylabel='n'>"
      ]
     },
     "execution_count": 135,
     "metadata": {},
     "output_type": "execute_result"
    },
    {
     "data": {
      "image/png": "[encoded data removed]",
      "text/plain": [
       "<Figure size 640x480 with 1 Axes>"
      ]
     },
     "metadata": {},
     "output_type": "display_data"
    }
   ],
   "source": [
    "# Visualize the data\n",
    "sns.barplot(x='purple_link', y='n', data=purple_link_counts)\n",
    "sns.barplot(x='purple_link', y='n', data=hypothesized)"
   ]
  },
  {
   "cell_type": "code",
   "execution_count": null,
   "id": "5ddba532",
   "metadata": {},
   "outputs": [
    {
     "name": "stdout",
     "output_type": "stream",
     "text": [
      "         purple_link      prop            n\n",
      "0             Amused  0.166667   376.833333\n",
      "1            Annoyed  0.166667   376.833333\n",
      "2  Hello, old friend  0.500000  1130.500000\n",
      "3        Indifferent  0.166667   376.833333\n",
      "chi2:  44.59840778416629\n",
      "p_value:  1.1261810719413759e-09\n"
     ]
    }
   ],
   "source": [
    "# Hypothesis test\n",
    "\n",
    "hypothesized = pd.DataFrame(\n",
    "    {\n",
    "        'purple_link': list(purple_link_counts['purple_link']),\n",
    "        'prop': [1/6, 1/6, 1/2, 1/6],\n",
    "    }\n",
    ")\n",
    "hypothesized['n'] = hypothesized['prop'] * len(data)\n",
    "print(hypothesized)\n",
    "\n",
    "# Chi-square test\n",
    "# Null hypothesis: The observed proportions are equal to the hypothesized proportions\n",
    "# Alternative hypothesis: The observed proportions are not equal to the hypothesized proportions\n",
    "# Chi-square test \n",
    "from scipy.stats import chisquare\n",
    "# chisquare(f_obs, f_exp)\n",
    "# f_obs = observed frequencies\n",
    "# f_exp = expected frequencies\n",
    "chi2, p_value = chisquare(\n",
    "    f_obs=purple_link_counts['n'],\n",
    "    f_exp=hypothesized['n'],\n",
    ")\n",
    "print(\"chi2: \", chi2)\n",
    "print(\"p_value: \", p_value)"
   ]
  },
  {
   "cell_type": "markdown",
   "id": "4f377239",
   "metadata": {},
   "source": [
    "## **NON PARAMETRIC TEST**"
   ]
  },
  {
   "cell_type": "code",
   "execution_count": 147,
   "id": "4b870818",
   "metadata": {},
   "outputs": [
    {
     "name": "stdout",
     "output_type": "stream",
     "text": [
      "[1. 5. 2. 4. 3.]\n"
     ]
    }
   ],
   "source": [
    "# List elements Rank\n",
    "from scipy.stats import rankdata\n",
    "# rankdata(a, method='average', axis=0, nan_policy='propagate')\n",
    "# a: array_like\n",
    "a = [1, 15, 3, 10, 6]\n",
    "ranks = rankdata(a)\n",
    "print(ranks)"
   ]
  },
  {
   "cell_type": "markdown",
   "id": "cab2bde4",
   "metadata": {},
   "source": [
    "**WILCOXON TEST**"
   ]
  },
  {
   "cell_type": "code",
   "execution_count": null,
   "id": "9b94836d",
   "metadata": {},
   "outputs": [
    {
     "name": "stdout",
     "output_type": "stream",
     "text": [
      "            state      county  repub_percent_08  repub_percent_12      diff\n",
      "80          Texas   Red River         68.507522         69.944817 -1.437295\n",
      "84          Texas      Walker         60.707197         64.971903 -4.264705\n",
      "33       Kentucky      Powell         57.059533         61.727293 -4.667760\n",
      "81          Texas  Schleicher         74.386503         77.384464 -2.997961\n",
      "93  West Virginia      Morgan         60.857614         64.068711 -3.211097\n",
      "            state      county  repub_percent_08  repub_percent_12      diff  \\\n",
      "80          Texas   Red River         68.507522         69.944817 -1.437295   \n",
      "84          Texas      Walker         60.707197         64.971903 -4.264705   \n",
      "33       Kentucky      Powell         57.059533         61.727293 -4.667760   \n",
      "81          Texas  Schleicher         74.386503         77.384464 -2.997961   \n",
      "93  West Virginia      Morgan         60.857614         64.068711 -3.211097   \n",
      "\n",
      "    abs_diff  \n",
      "80  1.437295  \n",
      "84  4.264705  \n",
      "33  4.667760  \n",
      "81  2.997961  \n",
      "93  3.211097  \n",
      "\n",
      "\n",
      "**************************************************\n",
      "\n",
      "            state      county  repub_percent_08  repub_percent_12      diff  \\\n",
      "80          Texas   Red River         68.507522         69.944817 -1.437295   \n",
      "84          Texas      Walker         60.707197         64.971903 -4.264705   \n",
      "33       Kentucky      Powell         57.059533         61.727293 -4.667760   \n",
      "81          Texas  Schleicher         74.386503         77.384464 -2.997961   \n",
      "93  West Virginia      Morgan         60.857614         64.068711 -3.211097   \n",
      "\n",
      "    abs_diff  ranks_abs_diff  \n",
      "80  1.437295             1.0  \n",
      "84  4.264705             4.0  \n",
      "33  4.667760             5.0  \n",
      "81  2.997961             2.0  \n",
      "93  3.211097             3.0  \n"
     ]
    }
   ],
   "source": [
    "# WILCOXON TEST\n",
    "from scipy.stats import wilcoxon\n",
    "\n",
    "# sample data from repub_08_12 dataset\n",
    "repub_votes_small = repub_08_12.sample(n=5, random_state=1)\n",
    "print(repub_votes_small)\n",
    "\n",
    "#add difference column\n",
    "repub_votes_small['diff'] = repub_votes_small[rep_08] - repub_votes_small[rep_12]\n",
    "\n",
    "# add absolute difference column\n",
    "repub_votes_small['abs_diff'] = abs(repub_votes_small['diff'])\n",
    "print(repub_votes_small)\n",
    "draw_stars_line()\n",
    "\n",
    "# add ranks column\n",
    "repub_votes_small['ranks_abs_diff'] = rankdata(repub_votes_small['abs_diff'])\n",
    "print(repub_votes_small)\n"
   ]
  },
  {
   "cell_type": "code",
   "execution_count": 164,
   "id": "5221f2cd",
   "metadata": {},
   "outputs": [
    {
     "name": "stdout",
     "output_type": "stream",
     "text": [
      "w_val:  0.0\n",
      "p_val:  0.03125\n",
      "\n",
      "\n",
      "**************************************************\n",
      "\n",
      "          W-val alternative    p-val  RBC  CLES\n",
      "Wilcoxon    0.0        less  0.03125 -1.0  0.72\n"
     ]
    }
   ],
   "source": [
    "# wilcoxon test with scipy\n",
    "# Null hypothesis: The median of the differences is equal to 0\n",
    "# Alternative hypothesis: The median of the differences is not equal to 0\n",
    "# wilcoxon(x, y=None, zero_method='zsplit', alternative='two-sided', mode='auto')\n",
    "w_val, p_val = wilcoxon(\n",
    "    x=repub_votes_small[rep_08],\n",
    "    y=repub_votes_small[rep_12],\n",
    "    alternative='less', # 'two-sided', 'greater', 'less'\n",
    ")\n",
    "\n",
    "print(\"w_val: \", w_val)\n",
    "print(\"p_val: \", p_val)\n",
    "\n",
    "draw_stars_line()\n",
    "\n",
    "# or using pingouin\n",
    "t_test = pg.wilcoxon(\n",
    "    x=repub_votes_small[rep_08],\n",
    "    y=repub_votes_small[rep_12],\n",
    "    alternative='less', # 'two-sided', 'greater', 'less'\n",
    ")\n",
    "print(t_test)\n",
    "\n"
   ]
  },
  {
   "cell_type": "markdown",
   "id": "29dcb8c5",
   "metadata": {},
   "source": [
    "**WILCOXON-MANN-WHITNEY TEST**"
   ]
  },
  {
   "cell_type": "code",
   "execution_count": 173,
   "id": "a9403535",
   "metadata": {},
   "outputs": [
    {
     "name": "stdout",
     "output_type": "stream",
     "text": [
      "   converted_comp age_first_code_cut\n",
      "0         77556.0              adult\n",
      "1         74970.0              child\n",
      "2        594539.0              child\n",
      "3       2000000.0              adult\n",
      "4         37816.0              adult\n",
      "\n",
      "\n",
      "**************************************************\n",
      "\n",
      "age_first_code_cut      adult     child\n",
      "0                     77556.0       NaN\n",
      "1                         NaN   74970.0\n",
      "2                         NaN  594539.0\n",
      "3                   2000000.0       NaN\n",
      "4                     37816.0       NaN\n",
      "        U-val alternative         p-val       RBC      CLES\n",
      "MWU  744365.5     greater  1.902723e-19  0.222516  0.611258\n"
     ]
    }
   ],
   "source": [
    "# WILCOXON-MANN-WHITNEY TEST\n",
    "age_cat = 'age_first_code_cut'\n",
    "converted_comp = 'converted_comp'\n",
    "\n",
    "# Data for the test using the age_cat and converted_comp columns of stack_overflow dataset\n",
    "age_vs_comp = data[[converted_comp, age_cat]]\n",
    "print(age_vs_comp.head())\n",
    "\n",
    "draw_stars_line()\n",
    "\n",
    "# age_vs_comp to wide format\n",
    "age_vs_comp_wide = age_vs_comp.pivot(columns=age_cat, values=converted_comp)\n",
    "print(age_vs_comp_wide.head())\n",
    "alpha = 0.01\n",
    "# Wilcoxon-Mann-Whitney test\n",
    "# Null hypothesis: The distributions of the two groups are equal\n",
    "# Alternative hypothesis: The distributions of the two groups are not equal\n",
    "# mannwhitneyu(x, y, use_continuity=True, alternative='two-sided')*\n",
    "# Run the test with pingouin\n",
    "t_test = pg.mwu(\n",
    "    x=age_vs_comp_wide['child'],\n",
    "    y=age_vs_comp_wide['adult'],\n",
    "    alternative='greater', # 'two-sided', 'greater', 'less'\n",
    ")\n",
    "print(t_test)\n",
    "\n",
    "\n",
    "\n"
   ]
  },
  {
   "cell_type": "code",
   "execution_count": null,
   "id": "dd719804",
   "metadata": {},
   "outputs": [],
   "source": []
  }
 ],
 "metadata": {
  "kernelspec": {
   "display_name": "Python 3",
   "language": "python",
   "name": "python3"
  },
  "language_info": {
   "codemirror_mode": {
    "name": "ipython",
    "version": 3
   },
   "file_extension": ".py",
   "mimetype": "text/x-python",
   "name": "python",
   "nbconvert_exporter": "python",
   "pygments_lexer": "ipython3",
   "version": "3.13.3"
  }
 },
 "nbformat": 4,
 "nbformat_minor": 5
}
