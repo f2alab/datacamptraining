{
 "cells": [
  {
   "cell_type": "markdown",
   "id": "5a997241",
   "metadata": {},
   "source": [
    "**HYPOTHESIS TESTING**"
   ]
  },
  {
   "cell_type": "code",
   "execution_count": 44,
   "id": "c16ace05",
   "metadata": {},
   "outputs": [],
   "source": [
    "# IMPORT LIBRARIES\n",
    "import numpy as np\n",
    "import matplotlib.pyplot as plt\n",
    "import seaborn as sns\n",
    "import pandas as pd\n",
    "from utils.utils import *"
   ]
  },
  {
   "cell_type": "markdown",
   "id": "b385dd19",
   "metadata": {},
   "source": [
    "***z statistic** is used when using one sample statistic to estimate a population parameter*\n",
    "\n",
    "***t statistic** is used when using multiple sample statistic to estimate a population parameter*"
   ]
  },
  {
   "cell_type": "code",
   "execution_count": 45,
   "id": "99925cb5",
   "metadata": {},
   "outputs": [
    {
     "name": "stdout",
     "output_type": "stream",
     "text": [
      "['respondent', 'main_branch', 'hobbyist', 'age', 'age_1st_code', 'age_first_code_cut', 'comp_freq', 'comp_total', 'converted_comp', 'country', 'currency_desc', 'currency_symbol', 'database_desire_next_year', 'database_worked_with', 'dev_type', 'ed_level', 'employment', 'ethnicity', 'gender', 'job_factors', 'job_sat', 'job_seek', 'language_desire_next_year', 'language_worked_with', 'misc_tech_desire_next_year', 'misc_tech_worked_with', 'new_collab_tools_desire_next_year', 'new_collab_tools_worked_with', 'new_dev_ops', 'new_dev_ops_impt', 'new_ed_impt', 'new_job_hunt', 'new_job_hunt_research', 'new_learn', 'new_off_topic', 'new_onboard_good', 'new_other_comms', 'new_overtime', 'new_purchase_research', 'purple_link', 'newso_sites', 'new_stuck', 'op_sys', 'org_size', 'platform_desire_next_year', 'platform_worked_with', 'purchase_what', 'sexuality', 'so_account', 'so_comm', 'so_part_freq', 'so_visit_freq', 'survey_ease', 'survey_length', 'trans', 'undergrad_major', 'webframe_desire_next_year', 'webframe_worked_with', 'welcome_change', 'work_week_hrs', 'years_code', 'years_code_pro', 'age_cat']\n",
      "['age', 'age_1st_code', 'age_first_code_cut', 'language_desire_next_year', 'language_worked_with', 'age_cat']\n"
     ]
    }
   ],
   "source": [
    "# Read the data\n",
    "data = pd.read_feather(\"stack_overflow.feather\")\n",
    "# show the first 5 rows\n",
    "# print(data.head())\n",
    "\n",
    "# print column names\n",
    "columns = list(data.columns)\n",
    "print(columns)\n",
    "\n",
    "# Filter columns that contain 'age'\n",
    "# columns = [col for col in columns if 'age' in col]\n",
    "columns = search_string_in_columns(df=data, search_string='age')\n",
    "\n",
    "print(columns)"
   ]
  },
  {
   "cell_type": "markdown",
   "id": "153d5bfe",
   "metadata": {},
   "source": [
    "**SCORE Z: COMPARE SAMPLE STATISTICS ACCROS ON GROUP OF VARIABLE**"
   ]
  },
  {
   "cell_type": "code",
   "execution_count": 46,
   "id": "4491a5f1",
   "metadata": {},
   "outputs": [
    {
     "name": "stdout",
     "output_type": "stream",
     "text": [
      "Mean salary: 119574.71738168952\n",
      "Standard deviation of salary: 265556.0729116986\n",
      "0   -0.158229\n",
      "1   -0.167967\n",
      "2    1.788565\n",
      "3    7.081086\n",
      "4   -0.307877\n",
      "Name: z_score, dtype: float64\n"
     ]
    }
   ],
   "source": [
    "# Calculate the mean and standard deviation of the salary\n",
    "col = 'converted_comp'\n",
    "mean_salary = data[col].mean()\n",
    "std_salary = data[col].std()\n",
    "print(f\"Mean salary: {mean_salary}\")\n",
    "print(f\"Standard deviation of salary: {std_salary}\")\n",
    "\n",
    "# Calculate Z-scores\n",
    "data[\"z_score\"] = (data[col] - mean_salary) / std_salary\n",
    "# print the first 5 rows\n",
    "print(data[\"z_score\"].head())\n"
   ]
  },
  {
   "cell_type": "code",
   "execution_count": 47,
   "id": "06f99a8d",
   "metadata": {},
   "outputs": [
    {
     "data": {
      "text/plain": [
       "Index(['age_first_code_cut', 'job_sat'], dtype='object')"
      ]
     },
     "execution_count": 47,
     "metadata": {},
     "output_type": "execute_result"
    }
   ],
   "source": [
    "num_col = 'converted_comp'\n",
    "cat_col = 'age_first_code_cut'\n",
    "data.select_dtypes('category').columns\n",
    "# Convert the categorical column to a category type\n",
    "data[cat_col] = data[cat_col].astype('category')\n",
    "\n",
    "data.select_dtypes('category').columns"
   ]
  },
  {
   "cell_type": "markdown",
   "id": "093bb249",
   "metadata": {},
   "source": [
    "**TEST T: COMPARE SAMPLE STATISTICS ACCROS GROUPS OF VARIABLE (2 GROUPS)**"
   ]
  },
  {
   "cell_type": "code",
   "execution_count": 48,
   "id": "952c2111",
   "metadata": {},
   "outputs": [],
   "source": [
    "# ARE USERS WHO FIRST PROGRAMMED AS CHILD COMPENSATED HIGHER THAN THOSE THAT STARTED AS ADULTS ?\n",
    "\n",
    "# NULL HYPOTHESIS: The mean compensation is the same for those who started programming as children and those who started as adults.\n",
    "# ALTERNATIVE HYPOTHESIS: The mean compensation is greater than the mean for those who started programming as children and those who started as adults.\n",
    "# \n"
   ]
  },
  {
   "cell_type": "code",
   "execution_count": 49,
   "id": "d2993f21",
   "metadata": {},
   "outputs": [
    {
     "name": "stdout",
     "output_type": "stream",
     "text": [
      "age_first_code_cut\n",
      "adult    1376\n",
      "child     885\n",
      "Name: count, dtype: int64\n",
      "\n",
      "\n",
      "**************************************************\n",
      "\n",
      "age_first_code_cut\n",
      "adult    111313.311047\n",
      "child    132419.570621\n",
      "Name: converted_comp, dtype: float64\n"
     ]
    }
   ],
   "source": [
    "# age_first_code_cut summary statistics\n",
    "age_first_code_cut = data[cat_col].value_counts()\n",
    "print(age_first_code_cut)\n",
    "\n",
    "draw_stars_line()\n",
    "\n",
    "# mean salary for each group\n",
    "mean_salary = data.groupby(cat_col, observed=True)[num_col].mean()\n",
    "print(mean_salary)"
   ]
  },
  {
   "cell_type": "code",
   "execution_count": 50,
   "id": "e7085af6",
   "metadata": {},
   "outputs": [
    {
     "name": "stdout",
     "output_type": "stream",
     "text": [
      "  age_first_code_cut  converted_comp\n",
      "0              adult   111313.311047\n",
      "1              child   132419.570621\n",
      "\n",
      "\n",
      "**************************************************\n",
      "\n",
      "  age_first_code_cut  converted_comp\n",
      "0              adult   271546.521729\n",
      "1              child   255585.240115\n",
      "\n",
      "\n",
      "**************************************************\n",
      "\n",
      "  age_first_code_cut  count\n",
      "0              adult   1376\n",
      "1              child    885\n",
      "1376\n"
     ]
    }
   ],
   "source": [
    "mean_salary = data.groupby(cat_col, observed=True)[num_col].mean().reset_index()\n",
    "print(mean_salary)\n",
    "draw_stars_line()\n",
    "std_salary = data.groupby(cat_col, observed=True)[num_col].std().reset_index()\n",
    "# count_group = data.groupby(cat_col, observed=True)[num_col].count()\n",
    "print(std_salary)\n",
    "draw_stars_line()\n",
    "\n",
    "count_group = data[cat_col].value_counts().reset_index()\n",
    "print(count_group)\n",
    "\n",
    "print(count_group.iloc[0,1])\n",
    "\n"
   ]
  },
  {
   "cell_type": "code",
   "execution_count": 51,
   "id": "2b57f4cb",
   "metadata": {},
   "outputs": [
    {
     "name": "stdout",
     "output_type": "stream",
     "text": [
      "21106.25957495728\n",
      "\n",
      "\n",
      "**************************************************\n",
      "\n",
      "11287.18430352594\n",
      "\n",
      "\n",
      "**************************************************\n",
      "\n",
      "t statistic is:  1.8699313316221844\n",
      "degrees of freedom is:  2259\n",
      "p-value is:  0.030811302165157595\n",
      "Reject the null hypothesis\n"
     ]
    }
   ],
   "source": [
    "# Calculate T statistic\n",
    "# T statistic = (mean1 - mean2) / sqrt((std1^2/n1) + (std2^2/n2))\n",
    "\n",
    "numerator = mean_salary.iloc[1,1] - mean_salary.iloc[0,1]\n",
    "print(numerator)\n",
    "draw_stars_line()\n",
    "\n",
    "denominator = np.sqrt((std_salary.iloc[0,1]**2/count_group.iloc[0,1]) + (std_salary.iloc[1,1]**2/count_group.iloc[1,1]))\n",
    "\n",
    "print(denominator)\n",
    "draw_stars_line()\n",
    "\n",
    "t_statistic = numerator / denominator\n",
    "print(\"t statistic is: \", t_statistic)\n",
    "\n",
    "# Calculate the degrees of freedom\n",
    "# degrees of freedom = n1 + n2 - 2\n",
    "df = count_group.iloc[0,1] + count_group.iloc[1,1] - 2\n",
    "print(\"degrees of freedom is: \", df)\n",
    "\n",
    "# Calculate the critical value\n",
    "# critical value = t.ppf(1 - alpha, df)\n",
    "from scipy.stats import t\n",
    "alpha = 0.05\n",
    "\n",
    "\n",
    "# Calculate the p-value\n",
    "# p-value = 1 - t.cdf(t_statistic, df)\n",
    "p_value = 1 - t.cdf(t_statistic, df) #cdf = cumulative distribution function\n",
    "print(\"p-value is: \", p_value)\n",
    "\n",
    "# Compare the p-value to the significance level\n",
    "if p_value < alpha:\n",
    "    print(\"Reject the null hypothesis\")\n",
    "else:\n",
    "    print(\"Fail to reject the null hypothesis\")"
   ]
  },
  {
   "cell_type": "markdown",
   "id": "3602e5d6",
   "metadata": {},
   "source": [
    "**PAIRED T TEST: COMPARE SAMPLE STATISTICS ACCROS MULTIPLE GROUP OF VARIABLE**"
   ]
  },
  {
   "cell_type": "code",
   "execution_count": 53,
   "id": "072b33f5",
   "metadata": {},
   "outputs": [
    {
     "name": "stdout",
     "output_type": "stream",
     "text": [
      "        state   county  repub_percent_08  repub_percent_12\n",
      "0     Alabama     Hale         38.957877         37.139882\n",
      "1    Arkansas   Nevada         56.726272         58.983452\n",
      "2  California     Lake         38.896719         39.331367\n",
      "3  California  Ventura         42.923190         45.250693\n",
      "4    Colorado  Lincoln         74.522569         73.764757\n",
      "\n",
      "\n",
      "**************************************************\n",
      "\n",
      "     state    county  dem_percent_12  dem_percent_16\n",
      "0  Alabama   Bullock       76.305900       74.946921\n",
      "1  Alabama   Chilton       19.453671       15.847352\n",
      "2  Alabama      Clay       26.673672       18.674517\n",
      "3  Alabama   Cullman       14.661752       10.028252\n",
      "4  Alabama  Escambia       36.915731       31.020546\n"
     ]
    }
   ],
   "source": [
    "# Import dataset\n",
    "repub08_12 = pd.read_feather('repub_votes_potus_08_12.feather')\n",
    "dem_12_16 = pd.read_feather('dem_votes_potus_12_16.feather')\n",
    "\n",
    "# Show the first 5 rows\n",
    "print(repub08_12.head())\n",
    "draw_stars_line()\n",
    "print(dem_12_16.head())"
   ]
  }
 ],
 "metadata": {
  "kernelspec": {
   "display_name": "Python 3",
   "language": "python",
   "name": "python3"
  },
  "language_info": {
   "codemirror_mode": {
    "name": "ipython",
    "version": 3
   },
   "file_extension": ".py",
   "mimetype": "text/x-python",
   "name": "python",
   "nbconvert_exporter": "python",
   "pygments_lexer": "ipython3",
   "version": "3.13.3"
  }
 },
 "nbformat": 4,
 "nbformat_minor": 5
}
