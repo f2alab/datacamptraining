{
 "cells": [
  {
   "cell_type": "markdown",
   "id": "071e3be9",
   "metadata": {},
   "source": [
    "## **VARIABLES CATEGORIELLES**"
   ]
  },
  {
   "cell_type": "markdown",
   "id": "12f71255",
   "metadata": {},
   "source": [
    "Convertir les variables categorielles en données numériques via \n",
    "1. `OnHotEncoder()` de _scikit-learn_ ou\n",
    "\n",
    "2. `get_dummies()` de _pandas_ "
   ]
  },
  {
   "cell_type": "markdown",
   "id": "3074519d",
   "metadata": {},
   "source": []
  }
 ],
 "metadata": {
  "language_info": {
   "name": "python"
  }
 },
 "nbformat": 4,
 "nbformat_minor": 5
}
