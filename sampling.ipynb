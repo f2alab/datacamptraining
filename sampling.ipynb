{
 "cells": [
  {
   "cell_type": "markdown",
   "id": "5cd95252",
   "metadata": {},
   "source": [
    "**SAMPLING IN PYTHON**"
   ]
  },
  {
   "cell_type": "code",
   "execution_count": 1,
   "id": "b12a2025",
   "metadata": {},
   "outputs": [],
   "source": [
    "# IMPORT LIBRARIES\n",
    "import numpy as np\n",
    "import matplotlib.pyplot as plt\n",
    "import seaborn as sns\n",
    "import pandas as pd\n",
    "from utils.utils import draw_stars_line"
   ]
  },
  {
   "cell_type": "code",
   "execution_count": 2,
   "id": "94ade19b",
   "metadata": {},
   "outputs": [
    {
     "name": "stdout",
     "output_type": "stream",
     "text": [
      "species\n",
      "Arabica    1310\n",
      "Robusta      28\n",
      "Name: count, dtype: int64\n"
     ]
    }
   ],
   "source": [
    "# Load the dataset\n",
    "data = pd.read_feather(\"coffee_ratings.feather\")\n",
    "# Show the first few rows of the dataset\n",
    "\n",
    "print(data['species'].value_counts())"
   ]
  },
  {
   "cell_type": "code",
   "execution_count": 3,
   "id": "c3706805",
   "metadata": {},
   "outputs": [
    {
     "name": "stdout",
     "output_type": "stream",
     "text": [
      "      total_cup_points  flavor\n",
      "559              82.83    7.58\n",
      "1087             80.33    7.17\n",
      "1020             80.92    7.33\n",
      "460              83.17    7.83\n",
      "802              82.00    7.50\n",
      "298              83.75    7.67\n",
      "481              83.08    7.67\n",
      "616              82.67    7.50\n",
      "763              82.17    7.50\n",
      "750              82.25    7.58\n",
      "\n",
      "\n",
      "**************************************************\n",
      "\n",
      "82.15120328849028\n",
      "82.15120328849028\n",
      "\n",
      "\n",
      "**************************************************\n",
      "\n",
      "82.317\n"
     ]
    }
   ],
   "source": [
    "# Coffee total cup points vs. flavor\n",
    "points_col_str = 'total_cup_points'\n",
    "flavor_col_str = 'flavor'\n",
    "pts_vs_flavor = data[[points_col_str, flavor_col_str]]\n",
    "\n",
    "# pts_vs_flavor.head(n=3)\n",
    "\n",
    "# Sample 10 random rows\n",
    "sample = pts_vs_flavor.sample(n=10, random_state=1)\n",
    "print(sample)\n",
    "\n",
    "# draw stars line\n",
    "draw_stars_line()\n",
    "\n",
    "print(pts_vs_flavor[points_col_str].mean())\n",
    "print(np.mean(pts_vs_flavor[points_col_str]))\n",
    "\n",
    "draw_stars_line()\n",
    "\n",
    "print(sample[points_col_str].mean())\n",
    "\n"
   ]
  },
  {
   "cell_type": "markdown",
   "id": "3fada541",
   "metadata": {},
   "source": [
    "**CALCUL DE L'INTERVALLE DE CONFIANCE**"
   ]
  },
  {
   "cell_type": "code",
   "execution_count": 4,
   "id": "310f3e2d",
   "metadata": {},
   "outputs": [
    {
     "name": "stdout",
     "output_type": "stream",
     "text": [
      "Lower bound: 79.46434085430361\n",
      "Upper bound: 84.83806572267694\n",
      "Lower bound: 81.10249999999999\n",
      "Upper bound: 86.296\n"
     ]
    }
   ],
   "source": [
    "# CALCUL A PARTIR DE LA MOYENNE ET ECART TYPE\n",
    "# minimum = moyenne - ecart type\n",
    "# maximum = moyenne + ecart type\n",
    "lower_bound = pts_vs_flavor[points_col_str].mean() - np.std(pts_vs_flavor[points_col_str], ddof=1)\n",
    "upper_bound = pts_vs_flavor[points_col_str].mean() + np.std(pts_vs_flavor[points_col_str], ddof=1)\n",
    "\n",
    "print(f\"Lower bound: {lower_bound}\")\n",
    "print(f\"Upper bound: {upper_bound}\")\n",
    "\n",
    "\n",
    "# CALCUL A PARTIR DES QUARTILES\n",
    "# minimum = 0.25 percentile\n",
    "# maximum = 0.975 percentile\n",
    "lower_bound = pts_vs_flavor[points_col_str].quantile(0.25)\n",
    "upper_bound = pts_vs_flavor[points_col_str].quantile(0.975)\n",
    "print(f\"Lower bound: {lower_bound}\")\n",
    "print(f\"Upper bound: {upper_bound}\")\n",
    "\n"
   ]
  }
 ],
 "metadata": {
  "kernelspec": {
   "display_name": "Python 3",
   "language": "python",
   "name": "python3"
  },
  "language_info": {
   "codemirror_mode": {
    "name": "ipython",
    "version": 3
   },
   "file_extension": ".py",
   "mimetype": "text/x-python",
   "name": "python",
   "nbconvert_exporter": "python",
   "pygments_lexer": "ipython3",
   "version": "3.13.3"
  }
 },
 "nbformat": 4,
 "nbformat_minor": 5
}
