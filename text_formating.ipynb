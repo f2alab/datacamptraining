{
 "cells": [
  {
   "cell_type": "markdown",
   "id": "f10c6ade",
   "metadata": {},
   "source": [
    "**TEXT FORMATTING WITH HTML TAG**\n",
    "<h4>h4 Title</h4>\n",
    "<span style=\"color:green; font-weight: bold; font-size: 2.2em; background-color: yellow padding: 2px;\">Red Text</span>\n",
    "<p>Paragraph</p>"
   ]
  },
  {
   "cell_type": "markdown",
   "id": "f9634cdc",
   "metadata": {},
   "source": []
  }
 ],
 "metadata": {
  "language_info": {
   "name": "python"
  }
 },
 "nbformat": 4,
 "nbformat_minor": 5
}
