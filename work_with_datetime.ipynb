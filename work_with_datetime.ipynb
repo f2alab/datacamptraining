{
 "cells": [
  {
   "cell_type": "markdown",
   "id": "53c4c75d",
   "metadata": {},
   "source": [
    "**WORK WITH DATETIME**"
   ]
  },
  {
   "cell_type": "code",
   "execution_count": 33,
   "id": "26e5b67e",
   "metadata": {},
   "outputs": [],
   "source": [
    "# IMPORT LIBRARIES\n",
    "import datetime as dt\n",
    "from datetime import date\n",
    "from dateutil import tz\n",
    "import numpy as np\n",
    "import pandas as pd\n",
    "import matplotlib.pyplot as plt\n",
    "import seaborn as sns\n"
   ]
  },
  {
   "cell_type": "code",
   "execution_count": 34,
   "id": "c28c31af",
   "metadata": {},
   "outputs": [
    {
     "data": {
      "text/plain": [
       "5"
      ]
     },
     "execution_count": 34,
     "metadata": {},
     "output_type": "execute_result"
    }
   ],
   "source": [
    "# date = dt.datetime.now().strftime(\"%Y-%m-%d\")\n",
    "month = dt.datetime.now().date().month\n",
    "month"
   ]
  },
  {
   "cell_type": "code",
   "execution_count": 35,
   "id": "3e674c77",
   "metadata": {},
   "outputs": [
    {
     "name": "stdout",
     "output_type": "stream",
     "text": [
      "<class 'datetime.timedelta'>\n"
     ]
    }
   ],
   "source": [
    "date1 = date(2023, month, 1)\n",
    "date2 = date(2023, month + 1, 1)\n",
    "\n",
    "delta = date2 - date1\n",
    "\n",
    "print(type(delta))"
   ]
  },
  {
   "cell_type": "code",
   "execution_count": 36,
   "id": "babefbb4",
   "metadata": {},
   "outputs": [
    {
     "name": "stdout",
     "output_type": "stream",
     "text": [
      "Toto date is 2023*05*01\n"
     ]
    }
   ],
   "source": [
    "d = date(2023, 5, 1)\n",
    "\n",
    "print(d.strftime(\"Toto date is %Y*%m*%d\"))\n"
   ]
  },
  {
   "cell_type": "code",
   "execution_count": 41,
   "id": "ee4d9160",
   "metadata": {},
   "outputs": [],
   "source": [
    "lome = tz.gettz('Africa/Lome')"
   ]
  }
 ],
 "metadata": {
  "kernelspec": {
   "display_name": "Python 3",
   "language": "python",
   "name": "python3"
  },
  "language_info": {
   "codemirror_mode": {
    "name": "ipython",
    "version": 3
   },
   "file_extension": ".py",
   "mimetype": "text/x-python",
   "name": "python",
   "nbconvert_exporter": "python",
   "pygments_lexer": "ipython3",
   "version": "3.13.3"
  }
 },
 "nbformat": 4,
 "nbformat_minor": 5
}
